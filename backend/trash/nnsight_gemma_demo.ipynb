{
 "cells": [
  {
   "cell_type": "code",
   "execution_count": 1,
   "metadata": {},
   "outputs": [],
   "source": [
    "from nnsight import LanguageModel\n",
    "import torch\n",
    "import nnsight\n",
    "from nnsight import NNsight\n",
    "torch.set_default_device('cuda')\n",
    "\n"
   ]
  },
  {
   "cell_type": "code",
   "execution_count": 3,
   "metadata": {},
   "outputs": [
    {
     "name": "stderr",
     "output_type": "stream",
     "text": [
      "`low_cpu_mem_usage` was None, now default to True since model is quantized.\n"
     ]
    },
    {
     "data": {
      "application/vnd.jupyter.widget-view+json": {
       "model_id": "6ccf4872b6a648cbbaf41c020c1a3d33",
       "version_major": 2,
       "version_minor": 0
      },
      "text/plain": [
       "Loading checkpoint shards:   0%|          | 0/8 [00:00<?, ?it/s]"
      ]
     },
     "metadata": {},
     "output_type": "display_data"
    },
    {
     "name": "stderr",
     "output_type": "stream",
     "text": [
      "The 'batch_size' attribute of HybridCache is deprecated and will be removed in v4.49. Use the more precisely named 'self.max_batch_size' attribute instead.\n"
     ]
    },
    {
     "name": "stdout",
     "output_type": "stream",
     "text": [
      "<bos>Write me a poem about Machine Learning.\n",
      "\n",
      "I’m not sure if I’m the right person to write a poem about Machine Learning. I’m not a poet, and I’m\n"
     ]
    }
   ],
   "source": [
    "# pip install bitsandbytes accelerate\n",
    "from transformers import AutoTokenizer, AutoModelForCausalLM, BitsAndBytesConfig\n",
    "\n",
    "quantization_config = BitsAndBytesConfig(load_in_8bit=True)\n",
    "\n",
    "tokenizer = AutoTokenizer.from_pretrained(\"google/gemma-2-9b\")\n",
    "model = AutoModelForCausalLM.from_pretrained(\n",
    "    \"google/gemma-2-9b\",\n",
    "    quantization_config=quantization_config,\n",
    ")\n",
    "\n",
    "input_text = \"Write me a poem about Machine Learning.\"\n",
    "input_ids = tokenizer(input_text, return_tensors=\"pt\").to(\"cuda\")\n",
    "\n",
    "outputs = model.generate(**input_ids, max_new_tokens=32)\n",
    "print(tokenizer.decode(outputs[0]))\n"
   ]
  },
  {
   "cell_type": "code",
   "execution_count": 110,
   "metadata": {},
   "outputs": [],
   "source": [
    "def nt(func):\n",
    "    # nnsight tuple wrapper\n",
    "    def wrapper(x):\n",
    "        if isinstance(x, tuple):\n",
    "            t = x[0]\n",
    "            assert isinstance(x[0], torch.Tensor), \"nnsight only goes depth 1, please make sure all tuples contain tensors\"\n",
    "            t_out = func(t)\n",
    "            return((t_out, *x[1:]))\n",
    "        elif isinstance(x, torch.Tensor):\n",
    "            return func(x)\n",
    "    return wrapper\n",
    "\n",
    "\n",
    "def tokenize(text):\n",
    "    return tokenizer(text, return_tensors=\"pt\").to(\"cuda\")['input_ids']"
   ]
  },
  {
   "cell_type": "code",
   "execution_count": 109,
   "metadata": {},
   "outputs": [
    {
     "name": "stdout",
     "output_type": "stream",
     "text": [
      "torch.Size([1, 7, 3584])\n"
     ]
    }
   ],
   "source": [
    "wrapped_model = NNsight(model)\n",
    "\n",
    "@nt\n",
    "def add_noise(x):\n",
    "    # print(x.shape) # torch.Size([1, 7, 3584])\n",
    "    return x + 0.01 * torch.randn_like(x)\n",
    "\n",
    "with wrapped_model.trace(tokenize(\"i like pie, it is\")):\n",
    "    l_output = wrapped_model.model.layers[20].output\n",
    "    nnsight.apply(add_noise, l_output)"
   ]
  }
 ],
 "metadata": {
  "kernelspec": {
   "display_name": "Python 3",
   "language": "python",
   "name": "python3"
  },
  "language_info": {
   "codemirror_mode": {
    "name": "ipython",
    "version": 3
   },
   "file_extension": ".py",
   "mimetype": "text/x-python",
   "name": "python",
   "nbconvert_exporter": "python",
   "pygments_lexer": "ipython3",
   "version": "3.10.12"
  }
 },
 "nbformat": 4,
 "nbformat_minor": 2
}
