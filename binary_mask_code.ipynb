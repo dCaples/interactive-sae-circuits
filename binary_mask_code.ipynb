{
 "cells": [
  {
   "cell_type": "markdown",
   "metadata": {},
   "source": [
    "# Load LLM, SAEs\n",
    "\n",
    "sae layers: [7, 14, 21, 40]\n",
    "llm gemma 9b"
   ]
  },
  {
   "cell_type": "code",
   "execution_count": 1,
   "metadata": {
    "ExecuteTime": {
     "end_time": "2024-11-27T07:43:04.890895Z",
     "start_time": "2024-11-27T07:42:34.748286Z"
    },
    "notebookRunGroups": {
     "groupValue": "1"
    }
   },
   "outputs": [
    {
     "name": "stderr",
     "output_type": "stream",
     "text": [
      "/usr/local/lib/python3.10/dist-packages/torchvision/io/image.py:13: UserWarning: Failed to load image Python extension: '/usr/local/lib/python3.10/dist-packages/torchvision/image.so: undefined symbol: _ZN3c1017RegisterOperatorsD1Ev'If you don't plan on using image functionality from `torchvision.io`, you can ignore this warning. Otherwise, there might be something wrong with your environment. Did you have `libjpeg` or `libpng` installed before building `torchvision` from source?\n",
      "  warn(\n",
      "WARNING:root:You tried to specify center_unembed=True for a model using logit softcap, but this can't be done! Softcapping is not invariant upon adding a constantSetting center_unembed=False instead.\n"
     ]
    },
    {
     "data": {
      "application/vnd.jupyter.widget-view+json": {
       "model_id": "9fd41f65949d40fea61eafd3dff93dfe",
       "version_major": 2,
       "version_minor": 0
      },
      "text/plain": [
       "Loading checkpoint shards:   0%|          | 0/8 [00:00<?, ?it/s]"
      ]
     },
     "metadata": {},
     "output_type": "display_data"
    },
    {
     "name": "stderr",
     "output_type": "stream",
     "text": [
      "WARNING:root:You are not using LayerNorm, so the writing weights can't be centered! Skipping\n"
     ]
    },
    {
     "name": "stdout",
     "output_type": "stream",
     "text": [
      "Loaded pretrained model gemma-2-9b into HookedTransformer\n",
      "pad token id is 0\n"
     ]
    }
   ],
   "source": [
    "from datasets import load_dataset\n",
    "from transformers import AutoTokenizer\n",
    "import torch\n",
    "import circuitsvis as cv\n",
    "import transformer_lens.utils as utils\n",
    "from transformer_lens.hook_points import (\n",
    "    HookPoint,\n",
    ")  # Hooking utilities\n",
    "from transformer_lens import HookedTransformer, FactoredMatrix\n",
    "from tqdm import tqdm\n",
    "import torch.nn as nn\n",
    "import torch.optim as optim\n",
    "import math\n",
    "import torch.nn.functional as F\n",
    "import matplotlib.pyplot as plt\n",
    "import numpy as np\n",
    "import functools\n",
    "import pandas as pd\n",
    "from pprint import pprint as pp\n",
    "from typing import Tuple\n",
    "from torch import Tensor\n",
    "from functools import lru_cache\n",
    "from torch import tensor\n",
    "from typing import TypedDict, Optional, Tuple, Union\n",
    "from tqdm import tqdm\n",
    "import signal\n",
    "\n",
    "from sae_lens import SAE, HookedSAETransformer\n",
    "import transformer_lens\n",
    "import json\n",
    "import random\n",
    "import wandb\n",
    "import os\n",
    "\n",
    "# Load a model\n",
    "model = transformer_lens.HookedTransformer.from_pretrained(\"gemma-2-9b\", device=\"cuda\")\n",
    "pad_token_id = model.tokenizer.pad_token_id\n",
    "print('pad token id is', pad_token_id)\n",
    "\n",
    "for param in model.parameters():\n",
    "   param.requires_grad_(False)\n",
    "\n",
    "device = \"cuda\"\n",
    "\n"
   ]
  },
  {
   "cell_type": "code",
   "execution_count": 2,
   "metadata": {
    "notebookRunGroups": {
     "groupValue": "2"
    }
   },
   "outputs": [],
   "source": [
    "device= 'cuda' if torch.cuda.is_available() else 'cpu'\n",
    "torch.set_default_device(device)\n",
    "assert device == 'cuda', \"This notebook is not optimized for CPU\"\n"
   ]
  },
  {
   "cell_type": "code",
   "execution_count": 3,
   "metadata": {},
   "outputs": [],
   "source": [
    "layers= [7, 14, 21, 40]\n",
    "l0s = [92, 67, 129, 125]\n",
    "saes = [SAE.from_pretrained(release=\"gemma-scope-9b-pt-res\", sae_id=f\"layer_{layers[i]}/width_16k/average_l0_{l0s[i]}\", device=device)[0] for i in range(len(layers))]"
   ]
  },
  {
   "cell_type": "markdown",
   "metadata": {},
   "source": [
    "# Load Dataset"
   ]
  },
  {
   "cell_type": "code",
   "execution_count": 4,
   "metadata": {},
   "outputs": [],
   "source": [
    "@lru_cache(maxsize=None)\n",
    "def memoize_encode(text):\n",
    "    return(model.to_tokens(text))"
   ]
  },
  {
   "cell_type": "code",
   "execution_count": 5,
   "metadata": {},
   "outputs": [],
   "source": [
    "# Expanding the name pool with a larger set of names\n",
    "extended_name_pool = [\n",
    "    \"Bob\", \"Sam\", \"Lilly\", \"Rob\", \"Alice\", \"Charlie\", \"Sally\", \"Tom\", \"Jake\", \"Emily\", \n",
    "    \"Megan\", \"Chris\", \"Sophia\", \"James\", \"Oliver\", \"Isabella\", \"Mia\", \"Jackson\", \n",
    "    \"Emma\", \"Ava\", \"Lucas\", \"Benjamin\", \"Ethan\", \"Grace\", \"Olivia\", \"Liam\", \"Noah\", \"Diego\"\n",
    "]\n",
    "for name in extended_name_pool:\n",
    "    assert len(model.tokenizer.encode(name)) == 2, f\"Name {name} has more than 1 token\"\n",
    "# Function to generate the dataset with correct and incorrect keying into dictionaries\n",
    "def generate_extended_dataset(name_pool, num_samples=5):\n",
    "    dataset = []\n",
    "    for _ in range(num_samples):\n",
    "        # Randomly select 5 names from the pool\n",
    "        selected_names = random.sample(name_pool, 5)\n",
    "        # Assign random ages to the selected names\n",
    "        age_dict = {name: random.randint(10, 19) for name in selected_names}\n",
    "        # Create a correct example\n",
    "        correct_name = random.choice(list(age_dict.keys()))\n",
    "        correct_prompt = f'Type \"help\", \"copyright\", \"credits\" or \"license\" for more information.\\n>>> age = {age_dict}\\n>>> age[\"{correct_name}\"]\\n'\n",
    "        correct_response = age_dict[correct_name]\n",
    "        correct_token = str(correct_response)[0]\n",
    "        # Create an incorrect example with a name not in the dictionary\n",
    "        \n",
    "        incorrect_name = random.choice([name for name in name_pool if name not in age_dict])\n",
    "        if random.random()>0.5:\n",
    "            # put the new name in the key.\n",
    "            incorrect_prompt = f'Type \"help\", \"copyright\", \"credits\" or \"license\" for more information.\\n>>> age = {age_dict}\\n>>> age[\"{incorrect_name}\"]\\n'\n",
    "        else:\n",
    "            # put the new name in the dict, and swap the key.\n",
    "            keys = list(age_dict.keys())\n",
    "            items = list(age_dict.values())\n",
    "\n",
    "            location = keys.index(correct_name)\n",
    "            keys[location] = incorrect_name\n",
    "\n",
    "            \n",
    "            broken_age_dict = dict(zip(keys, items))\n",
    "            incorrect_prompt = f'Type \"help\", \"copyright\", \"credits\" or \"license\" for more information.\\n>>> age = {broken_age_dict}\\n>>> age[\"{correct_name}\"]\\n'\n",
    "            \n",
    "            \n",
    "            \n",
    "\n",
    "\n",
    "        incorrect_response = \"Traceback\"\n",
    "        incorrect_token = \"Traceback\"\n",
    "\n",
    "        # Append the pair of correct and incorrect examples\n",
    "        dataset.append({\n",
    "            \"correct\": {\n",
    "                \"prompt\": correct_prompt,\n",
    "                \"response\": correct_response,\n",
    "                \"token\": correct_token\n",
    "            },\n",
    "            \"error\": {\n",
    "                \"prompt\": incorrect_prompt,\n",
    "                \"response\": incorrect_response,\n",
    "                \"token\": incorrect_token\n",
    "            }\n",
    "        })\n",
    "    return dataset\n",
    "# Generate the extended dataset\n",
    "json_dataset = generate_extended_dataset(extended_name_pool, num_samples=100_000)"
   ]
  },
  {
   "cell_type": "code",
   "execution_count": 6,
   "metadata": {},
   "outputs": [],
   "source": [
    "simple_dataset_ex_len = 65"
   ]
  },
  {
   "cell_type": "code",
   "execution_count": 7,
   "metadata": {},
   "outputs": [],
   "source": [
    "def response_to_token(response):\n",
    "    return memoize_encode(str(response)).squeeze()[1]\n",
    "\n",
    "class ContrastiveDatasetBatch:\n",
    "    def __init__(self, dataset_items):\n",
    "        self.correct_batch = [item[\"correct\"] for item in dataset_items]\n",
    "        self.error_batch = [item[\"error\"] for item in dataset_items]\n",
    "        self.batch_size = len(self.correct_batch)\n",
    "        self.correct_token_idx = model.to_single_token(\"1\")\n",
    "        self.error_token_idx = model.to_single_token(\"Traceback\")\n",
    "\n",
    "        correct_tokenized = None\n",
    "        error_tokenized = None\n",
    "\n",
    "        correct_prompts = [example[\"prompt\"] for example in self.correct_batch]\n",
    "        error_prompts = [example[\"prompt\"] for example in self.error_batch]\n",
    "\n",
    "        correct_answers = torch.tensor([response_to_token(example['response']) for example in self.correct_batch], dtype=torch.int64)\n",
    "        error_answers = torch.tensor([response_to_token(example['response']) for example in self.error_batch], dtype=torch.int64)\n",
    "\n",
    "        assert len(correct_prompts) == len(error_prompts)\n",
    "        all_prompts = correct_prompts + error_prompts\n",
    "        all_tokenized = model.to_tokens(all_prompts)\n",
    "        last_non_pad_idxs = torch.count_nonzero(all_tokenized != pad_token_id, dim=-1) - 1\n",
    "\n",
    "\n",
    "        correct_tokenized = all_tokenized[:self.batch_size]\n",
    "        correct_answer_idxs = last_non_pad_idxs[:self.batch_size]\n",
    "        error_tokenized = all_tokenized[self.batch_size:]\n",
    "        error_answer_idxs = last_non_pad_idxs[self.batch_size:]\n",
    "\n",
    "        self.correct_tokenized = correct_tokenized\n",
    "        self.error_tokenized = error_tokenized\n",
    "        self.correct_answer_seq_idxs = correct_answer_idxs\n",
    "        self.error_answer_seq_idxs = error_answer_idxs\n",
    "        self.correct_labels = correct_answers\n",
    "        self.error_labels = error_answers\n",
    "\n",
    "        self.all_tokenized = all_tokenized\n",
    "        self.all_answer_seq_idxs = last_non_pad_idxs\n",
    "        self.all_prompts = all_prompts\n",
    "        # the tokens are: [correct prompt, correct prompt, ..., error prompt, error prompt, ...]\n",
    "        self.all_answers_tok_idxs = torch.cat(\n",
    "            [\n",
    "                torch.ones(self.batch_size, dtype=torch.int64)*self.correct_token_idx,\n",
    "                torch.ones(self.batch_size, dtype=torch.int64)*self.error_token_idx\n",
    "            ]\n",
    "            )\n",
    "        self.all_wrong_answers_tok_idxs = torch.cat(\n",
    "            [\n",
    "                torch.ones(self.batch_size, dtype=torch.int64)*self.error_token_idx,\n",
    "                torch.ones(self.batch_size, dtype=torch.int64)*self.correct_token_idx\n",
    "            ]\n",
    "            )\n",
    "        self.all_answers_correct_labels = torch.cat([self.correct_labels, self.error_labels])\n",
    "\n",
    "\n",
    "\n",
    "\n",
    "eval_dataset = ContrastiveDatasetBatch(json_dataset[:10])"
   ]
  },
  {
   "cell_type": "code",
   "execution_count": 8,
   "metadata": {},
   "outputs": [],
   "source": [
    "simple_dataset = []\n",
    "simple_labels = []\n",
    "\n",
    "# answer_token = model.to_single_token(\"1\")\n",
    "# traceback_token = model.to_single_token(\"Traceback\")\n",
    "\n",
    "for item in json_dataset:\n",
    "    simple_dataset.append(item[\"correct\"][\"prompt\"])\n",
    "    simple_dataset.append(item[\"error\"][\"prompt\"])\n",
    "    simple_labels.append(response_to_token(item[\"correct\"][\"response\"]))\n",
    "    simple_labels.append(response_to_token(item[\"error\"][\"response\"]))\n",
    "\n",
    "\n",
    "simple_dataset = model.to_tokens(simple_dataset)\n",
    "simple_labels = torch.tensor(simple_labels)\n",
    "\n"
   ]
  },
  {
   "cell_type": "code",
   "execution_count": 9,
   "metadata": {},
   "outputs": [],
   "source": [
    "permutation = torch.randperm(len(simple_dataset))\n",
    "simple_dataset = simple_dataset[permutation]\n",
    "simple_labels = simple_labels[permutation]"
   ]
  },
  {
   "cell_type": "markdown",
   "metadata": {},
   "source": [
    "# Helper Fns"
   ]
  },
  {
   "cell_type": "code",
   "execution_count": 10,
   "metadata": {},
   "outputs": [],
   "source": [
    "def clear_memory():\n",
    "    for sae in saes:\n",
    "        for param in sae.parameters():\n",
    "            param.grad = None\n",
    "        for param in sae.mask.parameters():\n",
    "            param.grad = None\n",
    "    for param in model.parameters():\n",
    "        param.grad = None\n",
    "    torch.cuda.empty_cache()\n"
   ]
  },
  {
   "cell_type": "code",
   "execution_count": 11,
   "metadata": {},
   "outputs": [],
   "source": [
    "class KeyboardInterruptBlocker:\n",
    "    def __enter__(self):\n",
    "        # Block SIGINT and store old mask\n",
    "        self.old_mask = signal.pthread_sigmask(signal.SIG_BLOCK, {signal.SIGINT})\n",
    "\n",
    "    def __exit__(self, exc_type, exc_value, traceback):\n",
    "        # Restore old mask (unblock SIGINT)\n",
    "        signal.pthread_sigmask(signal.SIG_SETMASK, self.old_mask)\n",
    "\n",
    "class Range:\n",
    "    def __init__(self, *args):\n",
    "        # Support for range(start, stop, step) or range(stop)\n",
    "        self.args = args\n",
    "\n",
    "        # Validate input like the built-in range does\n",
    "        if len(self.args) not in {1, 2, 3}:\n",
    "            raise TypeError(f\"Range expected at most 3 arguments, got {len(self.args)}\")\n",
    "        \n",
    "        self.range = __builtins__.range(*self.args)  # Create the range object\n",
    "\n",
    "    def __iter__(self):\n",
    "        for i in self.range:\n",
    "            try:\n",
    "                with KeyboardInterruptBlocker():\n",
    "                    yield i\n",
    "            except KeyboardInterrupt:\n",
    "                print(\"Keyboard interrupt received. Exiting iteration.\")\n",
    "                break\n",
    "\n",
    "    def __len__(self):\n",
    "        return len(self.range)\n"
   ]
  },
  {
   "cell_type": "markdown",
   "metadata": {},
   "source": [
    "## Mask Types"
   ]
  },
  {
   "cell_type": "code",
   "execution_count": 12,
   "metadata": {},
   "outputs": [],
   "source": [
    "class SAEMasks(nn.Module):\n",
    "    def __init__(self, hook_points, masks):\n",
    "        super().__init__()\n",
    "        self.hook_points = hook_points# list of strings\n",
    "        self.masks = masks\n",
    "\n",
    "    def forward(self, x, sae_hook_point, mean_ablation=None):\n",
    "        index = self.hook_points.index(sae_hook_point)\n",
    "        mask = self.masks[index]\n",
    "        censored_activations = torch.ones_like(x)\n",
    "        if mean_ablation != None:\n",
    "            censored_activations = censored_activations * mean_ablation\n",
    "        else:\n",
    "            censored_activations = censored_activations * 0\n",
    "        \n",
    "        diff_to_x = x - censored_activations\n",
    "        return censored_activations + diff_to_x * mask\n",
    "    \n",
    "        \n"
   ]
  },
  {
   "cell_type": "code",
   "execution_count": 13,
   "metadata": {},
   "outputs": [],
   "source": [
    "class SAEMasks(nn.Module):\n",
    "    def __init__(self, hook_points, masks):\n",
    "        super().__init__()\n",
    "        self.hook_points = hook_points  # list of strings\n",
    "        self.masks = masks\n",
    "\n",
    "    def forward(self, x, sae_hook_point, mean_ablation=None):\n",
    "        index = self.hook_points.index(sae_hook_point)\n",
    "        mask = self.masks[index]\n",
    "        censored_activations = torch.ones_like(x)\n",
    "        if mean_ablation is not None:\n",
    "            censored_activations = censored_activations * mean_ablation\n",
    "        else:\n",
    "            censored_activations = censored_activations * 0\n",
    "        \n",
    "        diff_to_x = x - censored_activations\n",
    "        return censored_activations + diff_to_x * mask\n",
    "\n",
    "    def print_mask_statistics(self):\n",
    "        \"\"\"\n",
    "        Prints statistics about each binary mask:\n",
    "          - total number of elements (latents)\n",
    "          - total number of 'on' latents (mask == 1)\n",
    "          - average on-latents per token\n",
    "            * If shape == [latent_dim], there's effectively 1 token\n",
    "            * If shape == [seq, latent_dim], it's 'sum of on-latents / seq'\n",
    "        \"\"\"\n",
    "        for i, mask in enumerate(self.masks):\n",
    "            shape = list(mask.shape)\n",
    "            total_latents = mask.numel()\n",
    "            total_on = mask.sum().item()  # number of 1's in the mask\n",
    "\n",
    "            # Average on-latents per token depends on dimensions\n",
    "            if len(shape) == 1:\n",
    "                # e.g., shape == [latent_dim]\n",
    "                avg_on_per_token = total_on  # only one token\n",
    "            elif len(shape) == 2:\n",
    "                # e.g., shape == [seq, latent_dim]\n",
    "                seq_len = shape[0]\n",
    "                avg_on_per_token = total_on / seq_len if seq_len > 0 else 0\n",
    "            else:\n",
    "                # If there's more than 2 dims, adapt as needed;\n",
    "                # we'll just define \"token\" as the first dimension.\n",
    "                seq_len = shape[0]\n",
    "                avg_on_per_token = total_on / seq_len if seq_len > 0 else 0\n",
    "\n",
    "            print(f\"Statistics for mask '{self.hook_points[i]}':\")\n",
    "            print(f\"  - Shape: {shape}\")\n",
    "            print(f\"  - Total latents: {total_latents}\")\n",
    "            print(f\"  - Latents ON (mask=1): {int(total_on)}\")\n",
    "            print(f\"  - Average ON per token: {avg_on_per_token:.4f}\\n\")\n",
    "\n",
    "    def save(self, save_dir, file_name=\"sae_masks.pt\"):\n",
    "        \"\"\"\n",
    "        Saves hook_points and masks to a single file (file_name) within save_dir.\n",
    "        If you want multiple mask sets in the same directory, call save() with\n",
    "        different file_name values. The directory is created if it does not exist.\n",
    "        \"\"\"\n",
    "        if not os.path.exists(save_dir):\n",
    "            os.makedirs(save_dir)\n",
    "\n",
    "        save_path = os.path.join(save_dir, file_name)\n",
    "        checkpoint = {\n",
    "            \"hook_points\": self.hook_points,\n",
    "            \"masks\": self.masks\n",
    "        }\n",
    "        torch.save(checkpoint, save_path)\n",
    "        print(f\"SAEMasks saved to {save_path}\")\n",
    "\n",
    "    @classmethod\n",
    "    def load(cls, load_dir, file_name=\"sae_masks.pt\"):\n",
    "        \"\"\"\n",
    "        Loads hook_points and masks from a single file (file_name) within load_dir,\n",
    "        returning an instance of SAEMasks. If you stored multiple mask sets in the\n",
    "        directory, specify the file_name to load the correct one.\n",
    "        \"\"\"\n",
    "        load_path = os.path.join(load_dir, file_name)\n",
    "        if not os.path.isfile(load_path):\n",
    "            raise FileNotFoundError(f\"No saved SAEMasks found at {load_path}\")\n",
    "\n",
    "        checkpoint = torch.load(load_path)\n",
    "        hook_points = checkpoint[\"hook_points\"]\n",
    "        masks = checkpoint[\"masks\"]\n",
    "\n",
    "        instance = cls(hook_points=hook_points, masks=masks)\n",
    "        print(f\"SAEMasks loaded from {load_path}\")\n",
    "        return instance\n",
    "    def get_num_latents(self):\n",
    "        num_latents = 0\n",
    "        for mask in self.masks:\n",
    "            num_latents += (mask>0).sum().item()\n",
    "        return num_latents\n",
    "\n",
    "\n"
   ]
  },
  {
   "cell_type": "code",
   "execution_count": 14,
   "metadata": {
    "notebookRunGroups": {
     "groupValue": "1"
    }
   },
   "outputs": [],
   "source": [
    "class SparseMask(nn.Module):\n",
    "    def __init__(self, shape, l1, seq_len=None, distinct_l1=0):\n",
    "        super().__init__()\n",
    "        if seq_len is not None:\n",
    "            self.mask = nn.Parameter(torch.ones(seq_len, shape))\n",
    "        else:\n",
    "            self.mask = nn.Parameter(torch.ones(shape))\n",
    "        self.l1 = l1\n",
    "        self.distinct_l1 = distinct_l1\n",
    "        self.max_temp = torch.tensor(1000.0)\n",
    "        self.sparsity_loss = None\n",
    "        self.ratio_trained = 1\n",
    "        self.temperature = 1\n",
    "        self.distinct_sparsity_loss = 0\n",
    "\n",
    "\n",
    "    def forward(self, x, binary=False, mean_ablation=None):\n",
    "        if binary:\n",
    "            # binary mask, 0 if negative, 1 if positive\n",
    "            binarized = (self.mask > 0).float()\n",
    "            if mean_ablation is None:\n",
    "                return x * binarized\n",
    "            else:\n",
    "                diff = x - mean_ablation\n",
    "                return diff * binarized + mean_ablation\n",
    "            \n",
    "\n",
    "        self.temperature = self.max_temp ** self.ratio_trained\n",
    "        mask = torch.sigmoid(self.mask * self.temperature)\n",
    "        self.sparsity_loss = torch.abs(mask).sum() * self.distinct_l1\n",
    "        if len(mask.shape) == 2:\n",
    "            self.distinct_sparsity_loss = torch.abs(mask).max(dim=0).values.sum() * self.l1\n",
    "\n",
    "        if mean_ablation is None:\n",
    "            return x * mask\n",
    "        else:\n",
    "            diff = x - mean_ablation\n",
    "            return diff * mask + mean_ablation\n",
    "    def get_binarized_mask(self):\n",
    "        return (self.mask > 0).float()\n",
    "        \n",
    "\n",
    "\n",
    "\n",
    "for sae in saes:\n",
    "    sae.mask = SparseMask(sae.cfg.d_sae, 1.0, seq_len=65)\n",
    "\n",
    "\n",
    "\n"
   ]
  },
  {
   "cell_type": "code",
   "execution_count": 15,
   "metadata": {},
   "outputs": [],
   "source": [
    "def produce_learned_binary_masks():\n",
    "    hook_points = []\n",
    "    masks = []\n",
    "\n",
    "    for sae in saes:\n",
    "        hook_point = sae.cfg.hook_name\n",
    "        mask = sae.mask.get_binarized_mask()\n",
    "\n",
    "        hook_points.append(hook_point)\n",
    "        masks.append(mask)\n",
    "    \n",
    "    return SAEMasks(\n",
    "        hook_points=hook_points,\n",
    "        masks=masks\n",
    "    )\n"
   ]
  },
  {
   "cell_type": "code",
   "execution_count": 16,
   "metadata": {},
   "outputs": [],
   "source": [
    "class IGMask(nn.Module):\n",
    "    # igscores is seq x num_sae_latents\n",
    "    def __init__(self, ig_scores):\n",
    "        super().__init__()\n",
    "        self.ig_scores = ig_scores\n",
    "\n",
    "    def forward(self, x, threshold, mean_ablation = None):\n",
    "        censored_activations = torch.ones_like(x)\n",
    "        if mean_ablation != None:\n",
    "            censored_activations = censored_activations * mean_ablation\n",
    "        else:\n",
    "            censored_activations = censored_activations * 0\n",
    "\n",
    "        mask = (self.ig_scores.abs() > threshold).float()\n",
    "        \n",
    "        diff_to_x = x - censored_activations\n",
    "        return censored_activations + diff_to_x * mask\n",
    "    \n",
    "    def get_threshold_info(self, threshold):\n",
    "        mask = (self.ig_scores.abs() > threshold).float()\n",
    "\n",
    "        total_latents = mask.sum()\n",
    "        avg_latents_per_tok = mask.sum()/mask.shape[0]\n",
    "        latents_per_tok = mask.sum(dim=-1)\n",
    "        return {\"total_latents\":total_latents,\n",
    "                \"avg_latents_per_tok\":avg_latents_per_tok,\n",
    "                \"latents_per_tok\":latents_per_tok}\n",
    "    def get_binarized_mask(self, threshold):\n",
    "        return (self.ig_scores.abs()>threshold).float()\n",
    "        \n",
    "\n",
    "def refresh_class():\n",
    "    for sae in saes:\n",
    "        if hasattr(sae, 'igmask'):\n",
    "            sae.igmask = IGMask(sae.igmask.ig_scores)\n",
    "\n",
    "try:\n",
    "    refresh_class()\n",
    "except Exception as e:\n",
    "    print(e)\n",
    "\n",
    "refresh_class()\n",
    "\n",
    "\n",
    "\n",
    "def produce_ig_binary_masks(threshold=0.01):\n",
    "    hook_points = []\n",
    "    masks = []\n",
    "\n",
    "    for sae in saes:\n",
    "        hook_point = sae.cfg.hook_name\n",
    "        mask = sae.igmask.get_binarized_mask(threshold=threshold)\n",
    "        hook_points.append(hook_point)\n",
    "        masks.append(mask)\n",
    "    \n",
    "    return SAEMasks(\n",
    "        hook_points=hook_points,\n",
    "        masks=masks\n",
    "    )\n"
   ]
  },
  {
   "cell_type": "code",
   "execution_count": 17,
   "metadata": {},
   "outputs": [],
   "source": [
    "def apply_mask(mask_idxs, sae):\n",
    "    mask = torch.full_like(sae.mask.mask, -10)\n",
    "    mask[mask_idxs] = 10\n",
    "    sae.mask.mask.data = mask"
   ]
  },
  {
   "cell_type": "code",
   "execution_count": 18,
   "metadata": {},
   "outputs": [],
   "source": [
    "def load_sparsemask(mask_path):\n",
    "    json_mask = json.load(open(mask_path))\n",
    "    for sae in saes:\n",
    "        apply_mask(json_mask[sae.cfg.hook_name], sae)\n",
    "    "
   ]
  },
  {
   "cell_type": "markdown",
   "metadata": {},
   "source": [
    "## Build Hook"
   ]
  },
  {
   "cell_type": "code",
   "execution_count": 19,
   "metadata": {},
   "outputs": [],
   "source": [
    "bos_token_id = model.tokenizer.bos_token_id\n",
    "\n",
    "def build_sae_hook_fn(\n",
    "    # Core components\n",
    "    sae,\n",
    "    sequence,\n",
    "    \n",
    "    # Masking options\n",
    "    circuit_mask: Optional[SAEMasks] = None,\n",
    "    use_mask=False,\n",
    "    binarize_mask=False,\n",
    "    mean_mask=False,\n",
    "    ig_mask_threshold=None,\n",
    "    \n",
    "    # Caching behavior\n",
    "    cache_sae_grads=False,\n",
    "    cache_masked_activations=False,\n",
    "    cache_sae_activations=False,\n",
    "    \n",
    "    # Ablation options\n",
    "    mean_ablate=False,  # Controls mean ablation of the SAE\n",
    "    fake_activations=False,  # Controls whether to use fake activations\n",
    "    ):    # make the mask for the sequence\n",
    "    mask = torch.ones_like(sequence, dtype=torch.bool)\n",
    "    # mask[sequence == pad_token_id] = False\n",
    "    mask[sequence == bos_token_id] = False # where mask is false, keep original\n",
    "    def sae_hook(value, hook):\n",
    "        # print(f\"sae {sae.cfg.hook_name} running at layer {hook.layer()}\")\n",
    "        feature_acts = sae.encode(value)\n",
    "        feature_acts = feature_acts * mask.unsqueeze(-1)\n",
    "        if fake_activations != False and sae.cfg.hook_layer == fake_activations[0]:\n",
    "            feature_acts = fake_activations[1]\n",
    "        if cache_sae_grads:\n",
    "            raise NotImplementedError(\"torch is confusing\")\n",
    "            sae.feature_acts = feature_acts.requires_grad_(True)\n",
    "            sae.feature_acts.retain_grad()\n",
    "        \n",
    "        if cache_sae_activations:\n",
    "            sae.feature_acts = feature_acts.detach().clone()\n",
    "        \n",
    "        \n",
    "        \n",
    "        # Learned Binary Masking\n",
    "        if use_mask:\n",
    "            if mean_mask:\n",
    "                # apply the mask, with mean ablations\n",
    "                feature_acts = sae.mask(feature_acts, binary=binarize_mask, mean_ablation=sae.mean_ablation)\n",
    "            else:\n",
    "                # apply the mask, without mean ablations\n",
    "                feature_acts = sae.mask(feature_acts, binary=binarize_mask)\n",
    "\n",
    "        # IG Masking\n",
    "        if ig_mask_threshold != None:\n",
    "            # apply the ig mask\n",
    "            if mean_mask:\n",
    "                feature_acts = sae.igmask(feature_acts, threshold=ig_mask_threshold, mean_ablation=sae.mean_ablation)\n",
    "            else:\n",
    "                feature_acts = sae.igmask(feature_acts, threshold=ig_mask_threshold)\n",
    "\n",
    "                \n",
    "        if circuit_mask is not None:\n",
    "            hook_point = sae.cfg.hook_name\n",
    "            if mean_mask==True:\n",
    "                feature_acts = circuit_mask(feature_acts, hook_point, mean_ablation=sae.mean_ablation)\n",
    "            else:\n",
    "                feature_acts = circuit_mask(feature_acts, hook_point)\n",
    "            \n",
    "        if cache_masked_activations:\n",
    "            sae.feature_acts = feature_acts.detach().clone()\n",
    "        if mean_ablate:\n",
    "            feature_acts = sae.mean_ablation\n",
    "\n",
    "        out = sae.decode(feature_acts)\n",
    "        # choose out or value based on the mask\n",
    "        mask_expanded = mask.unsqueeze(-1).expand_as(value)\n",
    "        value = torch.where(mask_expanded, out, value)\n",
    "        return value\n",
    "    return sae_hook\n",
    "\n",
    "\n",
    "    # def sae_hook_ablate(value, hook):\n",
    "    # feature_acts = sae.encode(value)\n",
    "    # # feature_acts[:, :, topsae_attr_indices] = 0\n",
    "    # out = sae.decode(feature_acts)\n",
    "    # return out\n",
    "\n",
    "\n",
    "def build_hooks_list(sequence,\n",
    "                    cache_sae_activations=False,\n",
    "                    cache_sae_grads=False,\n",
    "                    circuit_mask=None,\n",
    "                    use_mask=False,\n",
    "                    binarize_mask=False,\n",
    "                    mean_mask=False,\n",
    "                    cache_masked_activations=False,\n",
    "                    mean_ablate=False,\n",
    "                    fake_activations: Tuple[int, torch.Tensor] = False,\n",
    "                    ig_mask_threshold=None,\n",
    "                    ):\n",
    "    hooks = []\n",
    "    # blocks.0.hook_resid_pre\n",
    "    # # fake hook that adds zero so gradients propagate through the model\n",
    "    # param = nn.Parameter(torch.tensor(0.0, requires_grad=True))\n",
    "    # hooks.append(\n",
    "    #     (\n",
    "    #         \"blocks.0.hook_resid_pre\",\n",
    "    #         lambda value, hook: value + param,\n",
    "    #     )\n",
    "    # )\n",
    "    for sae in saes:\n",
    "        hooks.append(\n",
    "            (\n",
    "            sae.cfg.hook_name,\n",
    "            build_sae_hook_fn(sae, sequence, cache_sae_grads=cache_sae_grads, circuit_mask=circuit_mask, use_mask=use_mask, binarize_mask=binarize_mask, cache_masked_activations=cache_masked_activations, cache_sae_activations=cache_sae_activations, mean_mask=mean_mask, mean_ablate=mean_ablate, fake_activations=fake_activations, ig_mask_threshold=ig_mask_threshold),\n",
    "            )\n",
    "        )\n",
    "    return hooks \n",
    "\n",
    "def build_sae_logitfn(**kwargs):\n",
    "    def logitfn(tokens):\n",
    "        return model.run_with_hooks(\n",
    "            tokens, \n",
    "            return_type=\"logits\", \n",
    "            fwd_hooks=build_hooks_list(tokens, **kwargs)\n",
    "            )\n",
    "    return logitfn"
   ]
  },
  {
   "cell_type": "code",
   "execution_count": 20,
   "metadata": {},
   "outputs": [],
   "source": [
    "vocab = simple_labels.view(-1).unique()\n",
    "\n",
    "def get_highest_other_logit(logits, label):\n",
    "    other_logits = logits.clone()\n",
    "    # set the logits for the correct label to -infinity\n",
    "    other_logits[..., label] = -float(\"inf\")\n",
    "    # get the highest logit for the other labels\n",
    "    mask = torch.ones_like(other_logits) * -float(\"inf\")\n",
    "    mask[..., vocab] = 0\n",
    "    other_logits = other_logits + mask\n",
    "\n",
    "    return other_logits.max(dim=-1).values\n",
    "\n",
    "def get_highest_other_prob(logits, label):\n",
    "    other_logits = logits.clone()\n",
    "    # set the logits for the correct label to -infinity\n",
    "    other_logits[..., label] = 0\n",
    "    # get the highest logit for the other labels\n",
    "    #mask = torch.ones_like(other_logits) * 0\n",
    "    #mask[..., vocab] = 0\n",
    "    #other_logits = other_logits + mask\n",
    "\n",
    "    return other_logits.max(dim=-1).values\n"
   ]
  },
  {
   "cell_type": "code",
   "execution_count": 21,
   "metadata": {},
   "outputs": [],
   "source": [
    "def compute_token_probabilities(logits, seq_idxs, labels):\n",
    "    \"\"\"Compute probabilities, logit differences, and CE loss for token predictions.\"\"\"\n",
    "    # Get probabilities for all tokens at the sequence positions\n",
    "    probs = F.softmax(logits[torch.arange(logits.shape[0]), seq_idxs], dim=-1)\n",
    "    \n",
    "    # Calculate mean probabilities for correct and error tokens\n",
    "    prob_correct = probs[torch.arange(probs.shape[0]), labels].mean().item()\n",
    "    max_prob_idxs = probs.argmax(dim=-1)\n",
    "    top1_acc = (max_prob_idxs == labels).float().mean().item()\n",
    "    prob_error = get_highest_other_prob(probs, labels).mean().item()\n",
    "    \n",
    "    # Calculate logit difference\n",
    "    correct_logits = logits[torch.arange(logits.shape[0]), seq_idxs, labels]\n",
    "    error_logits = get_highest_other_logit(logits[torch.arange(logits.shape[0]), seq_idxs], labels)\n",
    "    logit_diff = (correct_logits - error_logits).mean().item()\n",
    "    \n",
    "    # Calculate CE loss\n",
    "    ce_loss = F.cross_entropy(\n",
    "        logits[torch.arange(logits.shape[0]), seq_idxs], \n",
    "        labels\n",
    "    ).item()\n",
    "    \n",
    "    return prob_correct, prob_error, logit_diff, top1_acc, ce_loss\n",
    "\n",
    "def sanity_check_model_performance(logitfn):\n",
    "    \"\"\"Run sanity checks on model performance using contrastive examples.\"\"\"\n",
    "    baseline_dataset = ContrastiveDatasetBatch(json_dataset[-10:])\n",
    "    \n",
    "    # Get logits for both correct and error examples\n",
    "    correct_logits = logitfn(baseline_dataset.correct_tokenized)\n",
    "    error_logits = logitfn(baseline_dataset.error_tokenized)\n",
    "    \n",
    "    # Analyze correct examples\n",
    "    prob_correct_in_correct, prob_error_in_correct, logit_diff_correct, top1_correct, ce_loss_correct = compute_token_probabilities(\n",
    "        correct_logits,\n",
    "        baseline_dataset.correct_answer_seq_idxs,\n",
    "        baseline_dataset.correct_labels,\n",
    "    )\n",
    "    \n",
    "    # Analyze error examples\n",
    "    prob_error_in_error, prob_correct_in_error, logit_diff_error, top1_error, ce_loss_error = compute_token_probabilities(\n",
    "        error_logits,\n",
    "        baseline_dataset.error_answer_seq_idxs,\n",
    "        baseline_dataset.error_labels,\n",
    "    )\n",
    "    \n",
    "    return {\n",
    "        'prob_age_given_correct': prob_correct_in_correct,\n",
    "        'prob_traceback_given_correct(bad)': prob_error_in_correct,\n",
    "        'logit_diff_correct(-=bad)': logit_diff_correct,\n",
    "        'top1_correct': top1_correct,\n",
    "        'ce_loss_correct': ce_loss_correct,\n",
    "        'prob_traceback_given_error': prob_error_in_error,\n",
    "        'prob_age_given_error(bad)': prob_correct_in_error,\n",
    "        'logit_diff_error(-=bad)': logit_diff_error,\n",
    "        'top1_error': top1_error,\n",
    "        'ce_loss_error': ce_loss_error\n",
    "    }"
   ]
  },
  {
   "cell_type": "code",
   "execution_count": 22,
   "metadata": {},
   "outputs": [],
   "source": [
    "# def all_contrastive_difference(logitfn):\n",
    "#     baseline_dataset = ContrastiveDatasetBatch(json_dataset[0:10])\n",
    "#     all_tokenized = baseline_dataset.all_tokenized\n",
    "#     all_answer_seq_idxs = baseline_dataset.all_answer_seq_idxs\n",
    "#     all_answers_tok_idxs = baseline_dataset.all_answers_tok_idxs\n",
    "#     all_wrong_answers_tok_idxs = baseline_dataset.all_wrong_answers_tok_idxs\n",
    "#     all_prompts = baseline_dataset.all_prompts\n",
    "    \n",
    "#     all_logits = logitfn(all_tokenized)\n",
    "#     all_answer_logits = all_logits[torch.arange(all_logits.shape[0]), all_answer_seq_idxs]\n",
    "#     all_answers_correct_logits = all_answer_logits[torch.arange(all_answer_logits.shape[0]), all_answers_tok_idxs]\n",
    "#     all_answers_wrong_logits = all_answer_logits[torch.arange(all_answer_logits.shape[0]), all_wrong_answers_tok_idxs]\n",
    "#     all_logit_diffs = all_answers_correct_logits - all_answers_wrong_logits\n",
    "#     # 6.7 dif for correct, 1.8 for error\n",
    "#     all_logit_diffs[0:baseline_dataset.batch_size] = all_logit_diffs[0:baseline_dataset.batch_size]/6.7\n",
    "#     all_logit_diffs[baseline_dataset.batch_size:] = all_logit_diffs[baseline_dataset.batch_size:]/1.8\n",
    "#     return all_logit_diffs\n",
    "\n"
   ]
  },
  {
   "cell_type": "markdown",
   "metadata": {},
   "source": [
    "# SAE vs no SAE (sanity check and basic setup)"
   ]
  },
  {
   "cell_type": "code",
   "execution_count": 23,
   "metadata": {},
   "outputs": [],
   "source": [
    "baseline_dataset = ContrastiveDatasetBatch(json_dataset[10:15])"
   ]
  },
  {
   "cell_type": "code",
   "execution_count": 24,
   "metadata": {},
   "outputs": [
    {
     "name": "stdout",
     "output_type": "stream",
     "text": [
      "{'ce_loss_correct': 0.02053685113787651,\n",
      " 'ce_loss_error': 0.034115999937057495,\n",
      " 'logit_diff_correct(-=bad)': 6.77374792098999,\n",
      " 'logit_diff_error(-=bad)': 7.190669536590576,\n",
      " 'prob_age_given_correct': 0.979684054851532,\n",
      " 'prob_age_given_error(bad)': 0.010012148879468441,\n",
      " 'prob_traceback_given_correct(bad)': 0.006683263927698135,\n",
      " 'prob_traceback_given_error': 0.9665166735649109,\n",
      " 'top1_correct': 1.0,\n",
      " 'top1_error': 1.0}\n"
     ]
    }
   ],
   "source": [
    "def baseline_model_logit_fn(tokens):\n",
    "    correct_logits = model.run_with_hooks(\n",
    "        tokens, \n",
    "        return_type=\"logits\", \n",
    "        fwd_hooks=[\n",
    "            #(\n",
    "            #utils.get_act_name(\"pre\", 0), # v=attention out\n",
    "            #\"blocks.0.hook_mlp_out\",\n",
    "            #mlp_ablation_hook,\n",
    "            #),\n",
    "            ]\n",
    "        )\n",
    "    return correct_logits\n",
    "\n",
    "with torch.no_grad():\n",
    "    pp(sanity_check_model_performance(baseline_model_logit_fn))"
   ]
  },
  {
   "cell_type": "code",
   "execution_count": 25,
   "metadata": {},
   "outputs": [
    {
     "data": {
      "text/plain": [
       "2"
      ]
     },
     "execution_count": 25,
     "metadata": {},
     "output_type": "execute_result"
    }
   ],
   "source": [
    "pad_token_id\n",
    "bos_token_id = model.tokenizer.bos_token_id\n",
    "bos_token_id"
   ]
  },
  {
   "cell_type": "code",
   "execution_count": 26,
   "metadata": {},
   "outputs": [
    {
     "name": "stdout",
     "output_type": "stream",
     "text": [
      "{'ce_loss_correct': 0.08209055662155151,\n",
      " 'ce_loss_error': 1.708642601966858,\n",
      " 'logit_diff_correct(-=bad)': 6.33705472946167,\n",
      " 'logit_diff_error(-=bad)': 2.1839852333068848,\n",
      " 'prob_age_given_correct': 0.9212709665298462,\n",
      " 'prob_age_given_error(bad)': 0.20102114975452423,\n",
      " 'prob_traceback_given_correct(bad)': 0.02443072199821472,\n",
      " 'prob_traceback_given_error': 0.18251042068004608,\n",
      " 'top1_correct': 1.0,\n",
      " 'top1_error': 0.4000000059604645}\n"
     ]
    }
   ],
   "source": [
    "with torch.no_grad():\n",
    "    def logitfn(tokens):\n",
    "        return model.run_with_hooks(\n",
    "            tokens, \n",
    "            return_type=\"logits\", \n",
    "            fwd_hooks=build_hooks_list(tokens)\n",
    "            )\n",
    "    pp(sanity_check_model_performance(logitfn))"
   ]
  },
  {
   "cell_type": "code",
   "execution_count": 27,
   "metadata": {},
   "outputs": [],
   "source": [
    "with torch.no_grad():\n",
    "    def logitfn(tokens):\n",
    "        return model.run_with_hooks(\n",
    "            tokens, \n",
    "            return_type=\"logits\", \n",
    "            fwd_hooks=build_hooks_list(tokens)\n",
    "            )\n",
    "    logits = logitfn(baseline_dataset.error_tokenized)"
   ]
  },
  {
   "cell_type": "code",
   "execution_count": 28,
   "metadata": {},
   "outputs": [
    {
     "name": "stdout",
     "output_type": "stream",
     "text": [
      "['>>>', 'Traceback', 'TypeError']\n",
      "tensor([25.8409, 25.5861, 24.7264], device='cuda:0')\n"
     ]
    },
    {
     "data": {
      "text/plain": [
       "tensor(23.0826, device='cuda:0')"
      ]
     },
     "execution_count": 28,
     "metadata": {},
     "output_type": "execute_result"
    }
   ],
   "source": [
    "test_idx = 4\n",
    "topk = torch.topk(logits[:, -1, :][test_idx], k=3)\n",
    "print(model.to_str_tokens(topk.indices))\n",
    "print(topk.values)\n",
    "logits[:, -1, :][test_idx][baseline_dataset.correct_token_idx]"
   ]
  },
  {
   "cell_type": "markdown",
   "metadata": {},
   "source": [
    "# Attribution"
   ]
  },
  {
   "cell_type": "code",
   "execution_count": 29,
   "metadata": {},
   "outputs": [],
   "source": [
    "# def logitfn(tokens):\n",
    "#     return model.run_with_hooks(\n",
    "#         tokens, \n",
    "#         return_type=\"logits\", \n",
    "#         fwd_hooks=build_hooks_list(tokens, cache_sae_grads=True)\n",
    "#         )\n",
    "\n",
    "# all_logit_diffs = all_contrastive_difference(logitfn)"
   ]
  },
  {
   "cell_type": "code",
   "execution_count": 30,
   "metadata": {},
   "outputs": [],
   "source": [
    "# loss = all_logit_diffs.sum() * -1 # maximize the difference"
   ]
  },
  {
   "cell_type": "code",
   "execution_count": 31,
   "metadata": {},
   "outputs": [],
   "source": [
    "# loss.backward()"
   ]
  },
  {
   "cell_type": "code",
   "execution_count": 32,
   "metadata": {},
   "outputs": [],
   "source": [
    "# no_ablate = {\"mask_method\": \"keep_only\"}"
   ]
  },
  {
   "cell_type": "code",
   "execution_count": 33,
   "metadata": {},
   "outputs": [],
   "source": [
    "# num_features = saes[0].cfg.d_sae"
   ]
  },
  {
   "cell_type": "code",
   "execution_count": 34,
   "metadata": {},
   "outputs": [],
   "source": [
    "# with torch.no_grad():\n",
    "#     for sae in saes:\n",
    "#         delta_loss = torch.abs((sae.feature_acts.grad * sae.feature_acts).view(-1, sae.feature_acts.shape[-1]).sum(dim=0))\n",
    "#         topk = torch.topk(delta_loss, k=63)\n",
    "#         no_ablate[sae.cfg.hook_name] = topk.indices"
   ]
  },
  {
   "cell_type": "code",
   "execution_count": 35,
   "metadata": {},
   "outputs": [],
   "source": [
    "# import random\n",
    "# # deep copy\n",
    "# import copy\n",
    "# random_ablate = copy.deepcopy(no_ablate)\n",
    "\n",
    "# num_features = saes[0].cfg.d_sae\n",
    "\n",
    "# for key in random_ablate.keys():\n",
    "#     if key == \"mask_method\":\n",
    "#         continue\n",
    "# #     for i in range(len(random_ablate[key])):\n",
    "# #         random_ablate[key][i] = random.randint(0, num_features-1)\n",
    "# # random_ablate"
   ]
  },
  {
   "cell_type": "code",
   "execution_count": 36,
   "metadata": {},
   "outputs": [],
   "source": [
    "# # test the ablation\n",
    "    \n",
    "# with torch.no_grad():\n",
    "#     def logitfn(tokens):\n",
    "#         return model.run_with_hooks(\n",
    "#             tokens, \n",
    "#             return_type=\"logits\", \n",
    "#             fwd_hooks=build_hooks_list(\n",
    "#                 tokens,\n",
    "#                 cache_sae_grads=False,\n",
    "#                 circuit_mask=no_ablate)\n",
    "#             )\n",
    "    \n",
    "#     all_logit_diffs = sanity_check_model_performance(logitfn)\n",
    "#     #all_logit_diffs = san(logitfn).mean()\n",
    "#     # print(all_logit_diffs)"
   ]
  },
  {
   "cell_type": "markdown",
   "metadata": {},
   "source": [
    "# Collect SAE Means"
   ]
  },
  {
   "cell_type": "code",
   "execution_count": 37,
   "metadata": {},
   "outputs": [
    {
     "name": "stderr",
     "output_type": "stream",
     "text": [
      "Mean Accum Progress: 51it [00:06,  8.17it/s]                        \n"
     ]
    },
    {
     "data": {
      "text/plain": [
       "{'prob_age_given_correct': 0.5574524402618408,\n",
       " 'prob_traceback_given_correct(bad)': 0.1540934145450592,\n",
       " 'logit_diff_correct(-=bad)': 2.3581180572509766,\n",
       " 'top1_correct': 1.0,\n",
       " 'ce_loss_correct': 0.584378182888031,\n",
       " 'prob_traceback_given_error': 0.05273393541574478,\n",
       " 'prob_age_given_error(bad)': 0.5574524402618408,\n",
       " 'logit_diff_error(-=bad)': -2.3581180572509766,\n",
       " 'top1_error': 0.0,\n",
       " 'ce_loss_error': 2.9424965381622314}"
      ]
     },
     "execution_count": 37,
     "metadata": {},
     "output_type": "execute_result"
    }
   ],
   "source": [
    "# for each SAE create a sae_dim float32 with mean latent activation over subset of datset\n",
    "batch_size = 16\n",
    "num_features = saes[0].cfg.d_sae\n",
    "\n",
    "def logitfn(tokens):\n",
    "    return model.run_with_hooks(\n",
    "        tokens, \n",
    "        return_type=\"logits\", \n",
    "        fwd_hooks=build_hooks_list(tokens, cache_sae_activations=True)\n",
    "        )\n",
    "\n",
    "def running_mean_tensor(old_mean, new_value, n):\n",
    "    return old_mean + (new_value - old_mean) / n\n",
    "\n",
    "# # test running mean tensor\n",
    "# test_data = torch.arange(3).float()\n",
    "# test_data\n",
    "\n",
    "# data_examples = []\n",
    "# for i in range(30):\n",
    "#     # add noise to the data\n",
    "#     data_examples.append(test_data + torch.randn_like(test_data)*0.1)\n",
    "\n",
    "# running_mean = torch.zeros_like(test_data)\n",
    "# for i, data in enumerate(data_examples):\n",
    "#     running_mean = running_mean_tensor(running_mean, data, i+1)\n",
    "#     print(running_mean)\n",
    "\n",
    "# tok1 = traceback_token\n",
    "# tok2 = answer_token\n",
    "\n",
    "\n",
    "all_fwd_passes = []\n",
    "def get_sae_means(total_steps, per_token_mask=False, keep_only='none'):\n",
    "    all_optimized_params = []\n",
    "    for sae in saes:\n",
    "        sae.mean_ablation = torch.zeros(sae.cfg.d_sae).float()\n",
    "    \n",
    "    with tqdm(total=total_steps, desc=\"Mean Accum Progress\") as pbar:\n",
    "        for i, (x, y) in enumerate(zip(simple_dataset.view(-1, 65), simple_labels.view(-1))):\n",
    "            # if keep_only == 'traceback' and y != traceback_token:\n",
    "            #     continue\n",
    "            # if keep_only == 'correct' and y != answer_token:\n",
    "            #     continue\n",
    "\n",
    "            with torch.no_grad():\n",
    "                logits = logitfn(x)\n",
    "                for sae in saes:\n",
    "                    sae.mean_ablation = running_mean_tensor(sae.mean_ablation, sae.feature_acts, i+1)\n",
    "            pbar.update(1)\n",
    "\n",
    "            if i >= total_steps:\n",
    "                break\n",
    "\n",
    "get_sae_means(50, keep_only='none')\n",
    "\n",
    "\n",
    "# # this won't work anymore b/c I removed mean_ablate\n",
    "# def mean_ablated_logitfn(tokens):\n",
    "#     return model.run_with_hooks(\n",
    "#         tokens, \n",
    "#         return_type=\"logits\", \n",
    "#         fwd_hooks=build_hooks_list(tokens, mean_ablate=True)\n",
    "#         )\n",
    "\n",
    "# # all_contrastive_difference\n",
    "# sanity_check_model_performance(mean_ablated_logitfn)\n",
    "\n",
    "# NOTE: If you run the rest of the code it adds a batch dim to this data, and this code is screwed\n",
    "def mean_ablated_logitfn(tokens):\n",
    "    return model.run_with_hooks(\n",
    "        tokens, \n",
    "        return_type=\"logits\", \n",
    "        fwd_hooks=build_hooks_list(tokens, mean_ablate=True)\n",
    "        )\n",
    "\n",
    "# all_contrastive_difference\n",
    "sanity_check_model_performance(mean_ablated_logitfn)"
   ]
  },
  {
   "cell_type": "markdown",
   "metadata": {},
   "source": [
    "# Integrated Gradients"
   ]
  },
  {
   "cell_type": "markdown",
   "metadata": {},
   "source": [
    "## Integrate"
   ]
  },
  {
   "cell_type": "code",
   "execution_count": 38,
   "metadata": {},
   "outputs": [],
   "source": [
    "def get_ig_effect_batch(sae_id, batch):\n",
    "    ig_batch_size = 4\n",
    "    cache_sae_logitfn = build_sae_logitfn(cache_sae_activations=True)\n",
    "\n",
    "    def cache_sae_activations(tokens):\n",
    "        logits = cache_sae_logitfn(tokens)\n",
    "        cached_activations = [sae.feature_acts for sae in saes]\n",
    "        return logits, cached_activations\n",
    "\n",
    "    def sae_continue_cache_logitfn(tokens, sae_idx, cache, **kwargs):\n",
    "        logitfn = build_sae_logitfn(fake_activations=(sae_idx, cache), **kwargs)\n",
    "        return logitfn(tokens)\n",
    "\n",
    "    correct_tokenized = batch.correct_tokenized\n",
    "    traceback_tokenized = batch.error_tokenized\n",
    "    correct_labels = batch.correct_labels\n",
    "    traceback_labels = batch.error_labels\n",
    "\n",
    "    # run a forward pass on the correct and error examples\n",
    "    with torch.no_grad():\n",
    "        _, correct_activations = cache_sae_activations(correct_tokenized)\n",
    "        _, traceback_activations = cache_sae_activations(traceback_tokenized)\n",
    "\n",
    "\n",
    "    sae = saes[sae_id]\n",
    "    sae_correct_acts = correct_activations[sae_id]\n",
    "    sae_traceback_acts = traceback_activations[sae_id]\n",
    "\n",
    "    steps = 10\n",
    "    ratios = [i/steps for i in range(steps)] # we skip the last one b/c we are integrating, obv\n",
    "        \n",
    "    effects = []\n",
    "    for ratio in ratios:\n",
    "        interpolation = (sae_correct_acts * (1-ratio) + sae_traceback_acts * (ratio)).requires_grad_(True)\n",
    "        interpolation.retain_grad()\n",
    "        interpolated_out = sae_continue_cache_logitfn(\n",
    "            correct_tokenized, sae.cfg.hook_layer, interpolation,\n",
    "        )\n",
    "        answer_logits = interpolated_out[..., -1, :] # get the logits of the last tokens\n",
    "        # get the logprob on the inner most dimension\n",
    "        answer_logprobs = F.log_softmax(answer_logits, dim=-1)\n",
    "\n",
    "        correct_logprobs = answer_logprobs[..., torch.arange(answer_logprobs.shape[-2]), correct_labels]\n",
    "        traceback_logprobs = answer_logprobs[..., torch.arange(answer_logprobs.shape[-2]), traceback_labels]\n",
    "        metric = torch.sum(correct_logprobs - traceback_logprobs)\n",
    "        metric.backward()\n",
    "\n",
    "        counterfactual_delta = sae_correct_acts - sae_traceback_acts\n",
    "        \n",
    "        effect = (interpolation.grad * counterfactual_delta).mean(dim=0)\n",
    "\n",
    "        effects.append(effect)\n",
    "\n",
    "    effects = torch.stack(effects)\n",
    "    clear_memory()\n",
    "    return effects.mean(dim=0)\n"
   ]
  },
  {
   "cell_type": "code",
   "execution_count": 39,
   "metadata": {},
   "outputs": [],
   "source": [
    "def get_sae_ig_effect(sae_id, num_examples, batch_size=4):\n",
    "    effect_batches = []\n",
    "    for i in tqdm(range(0, num_examples, batch_size)):\n",
    "        batch = ContrastiveDatasetBatch(json_dataset[i:i+batch_size])\n",
    "        effect_batches.append(get_ig_effect_batch(sae_id, batch))\n",
    "    return torch.stack(effect_batches).mean(dim=0)"
   ]
  },
  {
   "cell_type": "code",
   "execution_count": 40,
   "metadata": {},
   "outputs": [],
   "source": [
    "def get_all_sae_ig_effects(num_examples, batch_size=4):\n",
    "    for i in range(len(saes)):\n",
    "        ig_effect = get_sae_ig_effect(i, num_examples, batch_size=batch_size)\n",
    "        saes[i].igmask = IGMask(ig_effect)\n",
    "        "
   ]
  },
  {
   "cell_type": "code",
   "execution_count": 41,
   "metadata": {},
   "outputs": [
    {
     "name": "stderr",
     "output_type": "stream",
     "text": [
      "100%|██████████| 16/16 [01:22<00:00,  5.15s/it]\n",
      "100%|██████████| 16/16 [01:23<00:00,  5.22s/it]\n",
      "100%|██████████| 16/16 [01:23<00:00,  5.23s/it]\n",
      "100%|██████████| 16/16 [01:21<00:00,  5.08s/it]\n"
     ]
    }
   ],
   "source": [
    "get_all_sae_ig_effects(64)"
   ]
  },
  {
   "cell_type": "code",
   "execution_count": 42,
   "metadata": {},
   "outputs": [
    {
     "data": {
      "text/plain": [
       "tensor(6164, device='cuda:0')"
      ]
     },
     "execution_count": 42,
     "metadata": {},
     "output_type": "execute_result"
    }
   ],
   "source": [
    "torch.count_nonzero(saes[1].igmask.ig_scores)"
   ]
  },
  {
   "cell_type": "code",
   "execution_count": 43,
   "metadata": {},
   "outputs": [],
   "source": [
    "masks = produce_ig_binary_masks(threshold=0.01)"
   ]
  },
  {
   "cell_type": "code",
   "execution_count": 44,
   "metadata": {},
   "outputs": [
    {
     "name": "stdout",
     "output_type": "stream",
     "text": [
      "Statistics for mask 'blocks.7.hook_resid_post':\n",
      "  - Shape: [65, 16384]\n",
      "  - Total latents: 1064960\n",
      "  - Latents ON (mask=1): 17\n",
      "  - Average ON per token: 0.2615\n",
      "\n",
      "Statistics for mask 'blocks.14.hook_resid_post':\n",
      "  - Shape: [65, 16384]\n",
      "  - Total latents: 1064960\n",
      "  - Latents ON (mask=1): 79\n",
      "  - Average ON per token: 1.2154\n",
      "\n",
      "Statistics for mask 'blocks.21.hook_resid_post':\n",
      "  - Shape: [65, 16384]\n",
      "  - Total latents: 1064960\n",
      "  - Latents ON (mask=1): 246\n",
      "  - Average ON per token: 3.7846\n",
      "\n",
      "Statistics for mask 'blocks.40.hook_resid_post':\n",
      "  - Shape: [65, 16384]\n",
      "  - Total latents: 1064960\n",
      "  - Latents ON (mask=1): 167\n",
      "  - Average ON per token: 2.5692\n",
      "\n"
     ]
    }
   ],
   "source": [
    "masks.print_mask_statistics()"
   ]
  },
  {
   "cell_type": "markdown",
   "metadata": {},
   "source": [
    "## Test"
   ]
  },
  {
   "cell_type": "code",
   "execution_count": 45,
   "metadata": {},
   "outputs": [],
   "source": [
    "iglogitfn  = build_sae_logitfn(circuit_mask=masks, mean_mask=True)\n"
   ]
  },
  {
   "cell_type": "code",
   "execution_count": 46,
   "metadata": {},
   "outputs": [
    {
     "data": {
      "text/plain": [
       "{'prob_age_given_correct': 0.8974571228027344,\n",
       " 'prob_traceback_given_correct(bad)': 0.029454493895173073,\n",
       " 'logit_diff_correct(-=bad)': 5.1295695304870605,\n",
       " 'top1_correct': 1.0,\n",
       " 'ce_loss_correct': 0.10869450867176056,\n",
       " 'prob_traceback_given_error': 0.2267649620771408,\n",
       " 'prob_age_given_error(bad)': 0.21619318425655365,\n",
       " 'logit_diff_error(-=bad)': 2.1616568565368652,\n",
       " 'top1_error': 0.699999988079071,\n",
       " 'ce_loss_error': 1.4841965436935425}"
      ]
     },
     "execution_count": 46,
     "metadata": {},
     "output_type": "execute_result"
    }
   ],
   "source": [
    "sanity_check_model_performance(iglogitfn)"
   ]
  },
  {
   "cell_type": "code",
   "execution_count": 47,
   "metadata": {},
   "outputs": [
    {
     "data": {
      "image/png": "[encoded data removed]",
      "text/plain": [
       "<Figure size 640x480 with 1 Axes>"
      ]
     },
     "metadata": {},
     "output_type": "display_data"
    }
   ],
   "source": [
    "# look at the distribution of the latents\n",
    "plt.hist(torch.abs(saes[1].igmask.ig_scores).view(-1).cpu().numpy(), bins=50, alpha=0.7, color='blue', label='Latent Distribution')\n",
    "plt.xlabel('Latent Values')\n",
    "plt.ylabel('Count')\n",
    "plt.title('Distribution of Latent Effects')\n",
    "plt.ylim(0, 7)\n",
    "plt.legend()\n",
    "# plot the histogram\n",
    "plt.show()"
   ]
  },
  {
   "cell_type": "code",
   "execution_count": 48,
   "metadata": {},
   "outputs": [
    {
     "data": {
      "text/plain": [
       "{'total_latents': tensor(12087., device='cuda:0'),\n",
       " 'avg_latents_per_tok': tensor(185.9538, device='cuda:0'),\n",
       " 'latents_per_tok': tensor([   0.,    0.,    0.,    0.,    0.,    0.,    0.,    0.,    0.,    0.,\n",
       "            0.,    0.,    0.,    0.,    0.,    0.,    0.,    0.,    0.,    0.,\n",
       "            0.,    0.,    0.,    0., 1161.,  129.,   86.,   77.,  157.,   75.,\n",
       "           72., 1223.,  117.,  103.,   92.,  171.,   73.,   77., 1299.,  121.,\n",
       "          150.,   93.,  193.,   83.,   76., 1414.,  133.,  112.,  106.,  203.,\n",
       "           89.,   76., 1381.,  138.,   76.,  102.,  204.,   55.,   65.,  203.,\n",
       "          140.,   74., 1695.,  107.,   86.], device='cuda:0')}"
      ]
     },
     "execution_count": 48,
     "metadata": {},
     "output_type": "execute_result"
    }
   ],
   "source": [
    "saes[0].igmask.get_threshold_info(0.0)"
   ]
  },
  {
   "cell_type": "code",
   "execution_count": 49,
   "metadata": {},
   "outputs": [],
   "source": [
    "def pp(x):\n",
    "    keys = list(x.keys())\n",
    "    values = list(x.values())\n",
    "    for i in range(len(keys)):\n",
    "        print(f\"{keys[i]}: {values[i]}\")"
   ]
  },
  {
   "cell_type": "code",
   "execution_count": 50,
   "metadata": {},
   "outputs": [],
   "source": [
    "ig_masks = produce_ig_binary_masks(threshold=0.01)"
   ]
  },
  {
   "cell_type": "code",
   "execution_count": 51,
   "metadata": {},
   "outputs": [
    {
     "name": "stdout",
     "output_type": "stream",
     "text": [
      "layer: 7\n",
      "17.0\n",
      "layer: 14\n",
      "79.0\n",
      "layer: 21\n",
      "246.0\n",
      "layer: 40\n",
      "167.0\n",
      "total 509.0\n",
      "========================================\n",
      "prob_age_given_correct: 0.8974571228027344\n",
      "prob_traceback_given_correct(bad): 0.029454493895173073\n",
      "logit_diff_correct(-=bad): 5.1295695304870605\n",
      "top1_correct: 1.0\n",
      "ce_loss_correct: 0.10869450867176056\n",
      "prob_traceback_given_error: 0.2267649620771408\n",
      "prob_age_given_error(bad): 0.21619318425655365\n",
      "logit_diff_error(-=bad): 2.1616568565368652\n",
      "top1_error: 0.699999988079071\n",
      "ce_loss_error: 1.4841965436935425\n",
      "avg top1 correct 0.8499999940395355\n",
      "avg CE loss 0.7964455261826515\n"
     ]
    }
   ],
   "source": [
    "threshold = 0.01\n",
    "sum = 0\n",
    "for sae in saes:\n",
    "    print(\"layer:\", sae.cfg.hook_layer)\n",
    "    latents_in_sae = sae.igmask.get_threshold_info(threshold)['total_latents'].item()\n",
    "    sum += latents_in_sae\n",
    "    print(latents_in_sae)\n",
    "\n",
    "print(\"total\", sum)\n",
    "\n",
    "print(\"=\"*40)\n",
    "with torch.no_grad():\n",
    "    ig_logitfn = build_sae_logitfn(ig_mask_threshold=threshold, mean_mask=True)\n",
    "    metrics = sanity_check_model_performance(ig_logitfn)\n",
    "    top1_correct_avg = (metrics['top1_correct'] + metrics['top1_error'])/2\n",
    "    ce_avg = (metrics['ce_loss_correct'] + metrics['ce_loss_error'])/2\n",
    "    pp(metrics)\n",
    "    print(\"avg top1 correct\", top1_correct_avg)\n",
    "    print(\"avg CE loss\", ce_avg)"
   ]
  },
  {
   "cell_type": "code",
   "execution_count": 52,
   "metadata": {},
   "outputs": [
    {
     "name": "stderr",
     "output_type": "stream",
     "text": [
      "100%|██████████| 10/10 [00:19<00:00,  1.98s/it]\n"
     ]
    }
   ],
   "source": [
    "# Comparison:\n",
    "\n",
    "def get_faithfulness(logitfn):\n",
    "    standard_results = sanity_check_model_performance(baseline_model_logit_fn)\n",
    "    baseline_logit_diff = (standard_results['logit_diff_correct(-=bad)'] + standard_results['logit_diff_error(-=bad)'])/2\n",
    "\n",
    "    logitfn_results = sanity_check_model_performance(logitfn)\n",
    "    test_logit_diff = (logitfn_results['logit_diff_correct(-=bad)'] + logitfn_results['logit_diff_error(-=bad)'])/2\n",
    "\n",
    "    faithfulness_ratio = test_logit_diff/baseline_logit_diff\n",
    "\n",
    "    return faithfulness_ratio\n",
    "\n",
    "\n",
    "\n",
    "\n",
    "def get_faithfulness_frontier(mask_producer_fn, start_threshold, end_threshold, steps = 10, modify_fn = lambda x: x):\n",
    "    thresholds = []\n",
    "    delta = (end_threshold - start_threshold) / steps\n",
    "\n",
    "    # apply a linear function such that the linear_map(modify_fn(start_threshold)) = start_threshold\n",
    "    # and linear_map(modify_fn(end_threshold)) = end_threshold\n",
    "\n",
    "    def linear_map(x):\n",
    "        mod_start = modify_fn(start_threshold)\n",
    "        mod_end = modify_fn(end_threshold)\n",
    "        return (x - mod_start) / (mod_end - mod_start) * (end_threshold - start_threshold) + start_threshold\n",
    "    \n",
    "    mf = lambda x: linear_map(modify_fn(x))\n",
    "    \n",
    "\n",
    "\n",
    "    for i in range(steps):\n",
    "        thresholds.append(\n",
    "            mf(start_threshold + i*delta)\n",
    "            )\n",
    "    \n",
    "    faithfulness_scores = []\n",
    "    for threshold in tqdm(thresholds):\n",
    "        mask = mask_producer_fn(threshold=threshold)\n",
    "        num_latents = mask.get_num_latents()\n",
    "        faithfulness_ratio = get_faithfulness(\n",
    "            build_sae_logitfn(circuit_mask=mask, mean_mask=True)\n",
    "        )\n",
    "        faithfulness_scores.append([num_latents, faithfulness_ratio])\n",
    "\n",
    "    return faithfulness_scores        \n",
    "\n",
    "ig_faithfulness_frontier = get_faithfulness_frontier(produce_ig_binary_masks, 0.01, 0.3, steps=10, modify_fn=lambda x: x**4)\n"
   ]
  },
  {
   "cell_type": "code",
   "execution_count": 53,
   "metadata": {},
   "outputs": [
    {
     "data": {
      "image/png": "[encoded data removed]",
      "text/plain": [
       "<Figure size 1000x600 with 1 Axes>"
      ]
     },
     "metadata": {},
     "output_type": "display_data"
    }
   ],
   "source": [
    "\n",
    "def plot_faithfulness_frontier(faithfulness_frontier):\n",
    "    # Assuming faithfulness_frontier is your list of tuples\n",
    "    # Example: faithfulness_frontier = [(10, 0.8), (20, 0.85), (30, 0.89), ...]\n",
    "\n",
    "    # Unzip the tuples into separate lists for x and y coordinates\n",
    "    num_latents, faithfulness = zip(*faithfulness_frontier)\n",
    "\n",
    "    # Create the plot\n",
    "    plt.figure(figsize=(10, 6))\n",
    "    plt.plot(num_latents, faithfulness, 'b.-', linewidth=2, markersize=10)\n",
    "\n",
    "    # Add labels and title\n",
    "    plt.xlabel('Number of Latents')\n",
    "    plt.ylabel('Faithfulness')\n",
    "    plt.title('Faithfulness Frontier')\n",
    "\n",
    "    # Add grid for better readability\n",
    "    plt.grid(True, linestyle='--', alpha=0.7)\n",
    "\n",
    "    # Optionally, you can customize the axis ranges if needed\n",
    "    # plt.xlim([min(num_latents), max(num_latents)])\n",
    "    # plt.ylim([min(faithfulness), max(faithfulness)])\n",
    "\n",
    "    # Display the plot\n",
    "    plt.tight_layout()\n",
    "    plt.show()\n",
    "plot_faithfulness_frontier(ig_faithfulness_frontier)"
   ]
  },
  {
   "cell_type": "code",
   "execution_count": 93,
   "metadata": {},
   "outputs": [],
   "source": [
    "def plot_multiple_faithfulness_frontiers(frontiers_dict, figsize=(12, 7), styles=None):\n",
    "    \"\"\"\n",
    "    Plot multiple faithfulness frontiers on the same graph.\n",
    "    \n",
    "    Parameters:\n",
    "    -----------\n",
    "    frontiers_dict : dict\n",
    "        Dictionary where keys are frontier names and values are lists of tuples (num_latents, faithfulness)\n",
    "        Example: {\n",
    "            'Model A': [(10, 0.8), (20, 0.85), ...],\n",
    "            'Model B': [(10, 0.75), (20, 0.82), ...]\n",
    "        }\n",
    "    figsize : tuple, optional\n",
    "        Figure size in inches (width, height)\n",
    "    styles : dict, optional\n",
    "        Dictionary of plot styles for each frontier\n",
    "        Example: {\n",
    "            'Model A': {'color': 'blue', 'linestyle': '-', 'marker': 'o'},\n",
    "            'Model B': {'color': 'red', 'linestyle': '--', 'marker': 's'}\n",
    "        }\n",
    "    \"\"\"\n",
    "    # Set default styles if none provided\n",
    "    if styles is None:\n",
    "        # Define a set of default colors and markers\n",
    "        colors = ['#1f77b4', '#ff7f0e', '#2ca02c', '#d62728', '#9467bd', \n",
    "                 '#8c564b', '#e377c2', '#7f7f7f', '#bcbd22', '#17becf']\n",
    "        markers = ['o', 's', '^', 'D', 'v', '>', '<', 'p', 'h', '8']\n",
    "        \n",
    "        styles = {}\n",
    "        for i, name in enumerate(frontiers_dict.keys()):\n",
    "            color_idx = i % len(colors)\n",
    "            marker_idx = i % len(markers)\n",
    "            styles[name] = {\n",
    "                'color': colors[color_idx],\n",
    "                'linestyle': '-',\n",
    "                'marker': markers[marker_idx]\n",
    "            }\n",
    "    \n",
    "    # Create the plot\n",
    "    plt.figure(figsize=figsize)\n",
    "    \n",
    "    # Plot each frontier\n",
    "    for name, frontier in frontiers_dict.items():\n",
    "        # Unzip the tuples\n",
    "        num_latents, faithfulness = zip(*frontier)\n",
    "        \n",
    "        # Get style for this frontier\n",
    "        style = styles[name]\n",
    "        \n",
    "        # Plot with style\n",
    "        plt.plot(num_latents, faithfulness,\n",
    "                label=name,\n",
    "                color=style['color'],\n",
    "                linestyle=style['linestyle'],\n",
    "                marker=style['marker'],\n",
    "                linewidth=2,\n",
    "                markersize=8)\n",
    "    \n",
    "    # Customize the plot\n",
    "    plt.xlabel('Number of Latents', fontsize=12)\n",
    "    plt.ylabel('Faithfulness', fontsize=12)\n",
    "    plt.title('Faithfulness vs Num. Latents', fontsize=14)\n",
    "    plt.grid(True, linestyle='--', alpha=0.7)\n",
    "    plt.legend(bbox_to_anchor=(1.05, 1), loc='upper left')\n",
    "    \n",
    "    # Adjust layout to prevent label cutoff\n",
    "    plt.tight_layout()\n",
    "    \n",
    "    return plt.gcf()"
   ]
  },
  {
   "cell_type": "markdown",
   "metadata": {},
   "source": [
    "# Optimize Binary Mask"
   ]
  },
  {
   "cell_type": "code",
   "execution_count": 55,
   "metadata": {},
   "outputs": [],
   "source": [
    "batch_size = 16\n",
    "simple_dataset = simple_dataset[:batch_size*(len(simple_dataset)//batch_size)]\n",
    "simple_labels = simple_labels[:batch_size*(len(simple_labels)//batch_size)]\n",
    "\n",
    "simple_dataset = simple_dataset.view(-1, batch_size, 65)\n",
    "simple_labels = simple_labels.view(-1, batch_size)"
   ]
  },
  {
   "cell_type": "code",
   "execution_count": 56,
   "metadata": {},
   "outputs": [],
   "source": [
    "def logitfn(tokens):\n",
    "    return model.run_with_hooks(\n",
    "        tokens, \n",
    "        return_type=\"logits\", \n",
    "        fwd_hooks=build_hooks_list(tokens, use_mask=True, mean_mask=True)\n",
    "        )\n",
    "\n",
    "def forward_pass(batch, labels, logitfn, ratio_trained=1):\n",
    "    for sae in saes:\n",
    "        sae.mask.ratio_trained = ratio_trained\n",
    "    tokens = batch\n",
    "    logits = logitfn(tokens)\n",
    "    last_token_logits = logits[:, -1, :]\n",
    "    loss = F.cross_entropy(last_token_logits, labels)\n",
    "    sparsity_loss = 0\n",
    "    for sae in saes:\n",
    "        sparsity_loss = sparsity_loss + sae.mask.sparsity_loss\n",
    "    \n",
    "    sparsity_loss = sparsity_loss / len(saes)\n",
    "    return loss, sparsity_loss"
   ]
  },
  {
   "cell_type": "code",
   "execution_count": 57,
   "metadata": {},
   "outputs": [],
   "source": [
    "def mask_logits(logits):\n",
    "    \"\"\"\n",
    "    Mask logits to only allow tokens in vocab_tensor by setting all other logits to -inf.\n",
    "    Works with any number of leading batch dimensions.\n",
    "    \n",
    "    Args:\n",
    "        logits: Tensor of shape [..., vocab_size] containing the logits\n",
    "    \n",
    "    Returns:\n",
    "        Tensor of same shape as logits with all non-vocab logits set to -inf\n",
    "    \"\"\"\n",
    "    vocab_tensor = simple_labels.view(-1).unique()\n",
    "    mask = torch.zeros_like(logits)\n",
    "    mask[..., vocab_tensor] = 1\n",
    "    return logits.masked_fill(mask == 0, float('-inf'))"
   ]
  },
  {
   "cell_type": "code",
   "execution_count": 75,
   "metadata": {},
   "outputs": [],
   "source": [
    "answer_token = model.to_single_token(\"1\")\n",
    "traceback_token = model.to_single_token(\"Traceback\")"
   ]
  },
  {
   "cell_type": "code",
   "execution_count": 77,
   "metadata": {},
   "outputs": [],
   "source": [
    "def do_training_run(sparsity_multiplier, loss_function='ce', per_token_mask=False, use_mask=False, mean_mask=False, distinct_sparsity_multiplier=0):\n",
    "\n",
    "    def logitfn(tokens):\n",
    "        logits =  model.run_with_hooks(\n",
    "            tokens, \n",
    "            return_type=\"logits\", \n",
    "            fwd_hooks=build_hooks_list(tokens, use_mask=use_mask, mean_mask=mean_mask)\n",
    "            )\n",
    "        if loss_function == 'ce_vocab':\n",
    "            return mask_logits(logits)\n",
    "        return logits\n",
    "\n",
    "    def forward_pass(batch, labels, logitfn, ratio_trained=1):\n",
    "        for sae in saes:\n",
    "            sae.mask.ratio_trained = ratio_trained\n",
    "        tokens = batch\n",
    "        logits = logitfn(tokens)\n",
    "        last_token_logits = logits[:, -1, :]\n",
    "        if loss_function == 'ce' or loss_function == 'ce_vocab':\n",
    "            loss = F.cross_entropy(last_token_logits, labels)\n",
    "            \n",
    "        elif loss_function == 'logit_diff':\n",
    "            # from the last token logits, get the logit for the \"1\" token and the \"Traceback\" token\n",
    "            correct_logits = last_token_logits[torch.arange(last_token_logits.shape[0]), labels]\n",
    "            incorrect_labels = torch.where(labels == answer_token, traceback_token, answer_token)\n",
    "            incorrect_logits = last_token_logits[torch.arange(last_token_logits.shape[0]), incorrect_labels]\n",
    "            loss = (incorrect_logits - correct_logits).mean() # it should very negative if the model is right.\n",
    "        else:\n",
    "            raise ValueError(f\"Loss function {loss_function} not recognized\")\n",
    "        sparsity_loss = 0\n",
    "        if per_token_mask:\n",
    "            distinct_sparsity_loss = 0\n",
    "        for sae in saes:\n",
    "            sparsity_loss = sparsity_loss + sae.mask.sparsity_loss\n",
    "            if per_token_mask:\n",
    "                distinct_sparsity_loss = distinct_sparsity_loss + sae.mask.distinct_sparsity_loss\n",
    "        \n",
    "        sparsity_loss = sparsity_loss / len(saes)\n",
    "        distinct_sparsity_loss = distinct_sparsity_loss / len(saes)\n",
    "\n",
    "        return loss, sparsity_loss, distinct_sparsity_loss\n",
    "\n",
    "    print(\"doing a run with sparsity multiplier\", sparsity_multiplier)\n",
    "    all_optimized_params = []\n",
    "    config = {\n",
    "        \"batch_size\": 16,\n",
    "        \"learning_rate\": 0.05,\n",
    "        \"total_steps\": simple_dataset.shape[0]*0.01,\n",
    "        \"sparsity_multiplier\": sparsity_multiplier\n",
    "    }\n",
    "\n",
    "    for sae in saes:\n",
    "        if per_token_mask:\n",
    "            sae.mask = SparseMask(sae.cfg.d_sae, 1.0, seq_len=65, distinct_l1=1.0)\n",
    "        else:\n",
    "            sae.mask = SparseMask(sae.cfg.d_sae, 1.0)\n",
    "        all_optimized_params.extend(list(sae.mask.parameters()))\n",
    "        sae.mask.max_temp = torch.tensor(200.0)\n",
    "    \n",
    "    wandb.init(project=\"sae circuits\", config=config)\n",
    "    optimizer = optim.Adam(all_optimized_params, lr=config[\"learning_rate\"])\n",
    "    total_steps = config[\"total_steps\"]\n",
    "\n",
    "    with tqdm(total=total_steps, desc=\"Training Progress\") as pbar:\n",
    "        for i, (x, y) in enumerate(zip(simple_dataset, simple_labels)):\n",
    "            with KeyboardInterruptBlocker():\n",
    "                optimizer.zero_grad()\n",
    "                \n",
    "                # Calculate ratio trained\n",
    "                ratio_trained = i / total_steps\n",
    "                \n",
    "                # Update mask ratio for each SAE\n",
    "                for sae in saes:\n",
    "                    sae.mask.ratio_trained = ratio_trained\n",
    "                \n",
    "                # Forward pass with updated ratio_trained\n",
    "                loss, sparsity_loss, distinct_sparsity_loss = forward_pass(x, y, logitfn, ratio_trained=ratio_trained)\n",
    "                if per_token_mask:\n",
    "                    sparsity_loss = sparsity_loss / 65\n",
    "\n",
    "\n",
    "                avg_nonzero_elements = sparsity_loss\n",
    "                avg_distinct_nonzero_elements = distinct_sparsity_loss\n",
    "                    \n",
    "                sparsity_loss = sparsity_loss * config[\"sparsity_multiplier\"] + distinct_sparsity_loss * distinct_sparsity_multiplier\n",
    "                total_loss = loss + sparsity_loss\n",
    "                infodict  = {\"Step\": i, \"Progress\": ratio_trained, \"Avg Nonzero Elements\": avg_nonzero_elements.item(), \"avg distinct lat/sae\":avg_distinct_nonzero_elements.item(), \"Task Loss\": loss.item(), \"Sparsity Loss\": sparsity_loss.item(), \"temperature\": saes[0].mask.temperature}\n",
    "                wandb.log(infodict)\n",
    "                \n",
    "                # Backward pass and optimizer step\n",
    "                total_loss.backward()\n",
    "                optimizer.step()\n",
    "                \n",
    "                # Update tqdm bar with relevant metrics\n",
    "                pbar.set_postfix(infodict)\n",
    "                \n",
    "                # Update the tqdm progress bar\n",
    "                pbar.update(1)\n",
    "                if i >= total_steps*1.3:\n",
    "                    break\n",
    "    wandb.finish()\n",
    "\n",
    "    optimizer.zero_grad()\n",
    "\n",
    "    for sae in saes:\n",
    "        for param in sae.parameters():\n",
    "            param.grad = None\n",
    "        for param in sae.mask.parameters():\n",
    "            param.grad = None\n",
    "    \n",
    "    for param in model.parameters():\n",
    "        param.grad = None\n",
    "\n",
    "    torch.cuda.empty_cache()\n",
    "\n",
    "    mask_dict = {}\n",
    "\n",
    "    total_density = 0\n",
    "    for sae in saes:\n",
    "        mask_dict[sae.cfg.hook_name] = torch.where(torch.sigmoid(sae.mask.mask*10000))[0].tolist()   # rob thinks .view(-1) needed here\n",
    "        total_density += torch.sigmoid(sae.mask.mask*10000).sum().item()\n",
    "    mask_dict[\"total_density\"] = total_density\n",
    "    mask_dict['avg_density'] = total_density / len(saes)\n",
    "\n",
    "    if per_token_mask:\n",
    "        print(\"total # latents in circuit: \", total_density)\n",
    "    print(\"avg density\", mask_dict['avg_density'])\n",
    "\n",
    "    ### EVAL ###\n",
    "    def masked_logit_fn(tokens):\n",
    "        logits =  model.run_with_hooks(\n",
    "            tokens, \n",
    "            return_type=\"logits\", \n",
    "            fwd_hooks=build_hooks_list(tokens, use_mask=use_mask, mean_mask=mean_mask, binarize_mask=True)\n",
    "            )\n",
    "        if loss_function == 'ce_vocab':\n",
    "            return mask_logits(logits)\n",
    "        return logits\n",
    "\n",
    "    def eval_ce_loss(batch, labels, logitfn, ratio_trained=10):\n",
    "        for sae in saes:\n",
    "            sae.mask.ratio_trained = ratio_trained\n",
    "        tokens = batch\n",
    "        logits = logitfn(tokens)\n",
    "        last_token_logits = logits[:, -1, :]\n",
    "        loss = F.cross_entropy(last_token_logits, labels)\n",
    "\n",
    "        # sparsity_loss = 0\n",
    "        # for sae in saes:\n",
    "        #     sparsity_loss = sparsity_loss + sae.mask.sparsity_loss\n",
    "        \n",
    "        # sparsity_loss = sparsity_loss / len(saes)\n",
    "\n",
    "        return loss\n",
    "\n",
    "    with torch.no_grad():\n",
    "        loss = eval_ce_loss(simple_dataset[-1], simple_labels[-1], masked_logit_fn)\n",
    "        print(\"CE loss:\", loss)\n",
    "\n",
    "    mask_dict['ce_loss'] = loss.item()\n",
    "\n",
    "\n",
    "    # json.dump(mask_dict, open(f\"{str(sparsity_multiplier)}_run.json\", \"w\"))\n",
    "    \n",
    "    "
   ]
  },
  {
   "cell_type": "code",
   "execution_count": 59,
   "metadata": {},
   "outputs": [
    {
     "name": "stdout",
     "output_type": "stream",
     "text": [
      "CE loss: tensor(0.9181, device='cuda:0')\n"
     ]
    }
   ],
   "source": [
    "def masked_logit_fn(tokens):\n",
    "    return model.run_with_hooks(\n",
    "        tokens, \n",
    "        return_type=\"logits\", \n",
    "        fwd_hooks=build_hooks_list(tokens, use_mask=True, mean_mask=True, binarize_mask=True)\n",
    "        )\n",
    "\n",
    "def eval_ce_loss(batch, labels, logitfn, ratio_trained=10):\n",
    "    for sae in saes:\n",
    "        sae.mask.ratio_trained = ratio_trained\n",
    "    tokens = batch\n",
    "    logits = logitfn(tokens)\n",
    "    last_token_logits = logits[:, -1, :]\n",
    "    loss = F.cross_entropy(last_token_logits, labels)\n",
    "\n",
    "    # sparsity_loss = 0\n",
    "    # for sae in saes:\n",
    "    #     sparsity_loss = sparsity_loss + sae.mask.sparsity_loss\n",
    "    \n",
    "    # sparsity_loss = sparsity_loss / len(saes)\n",
    "\n",
    "    return loss\n",
    "\n",
    "with torch.no_grad():\n",
    "    loss = eval_ce_loss(simple_dataset[21], simple_labels[21], masked_logit_fn)\n",
    "    \n",
    "    print(\"CE loss:\", loss)\n",
    "\n"
   ]
  },
  {
   "cell_type": "code",
   "execution_count": 78,
   "metadata": {},
   "outputs": [
    {
     "name": "stdout",
     "output_type": "stream",
     "text": [
      "doing a run with sparsity multiplier 3.0\n"
     ]
    },
    {
     "name": "stderr",
     "output_type": "stream",
     "text": [
      "Training Progress:   0%|          | 0/125.0 [00:00<?, ?it/s]"
     ]
    },
    {
     "name": "stderr",
     "output_type": "stream",
     "text": [
      "Training Progress: 164it [03:51,  1.41s/it, Step=163, Progress=1.3, Avg Nonzero Elements=0.677, avg distinct lat/sae=40, Task Loss=-5.28, Sparsity Loss=2.03, temperature=tensor(1001.2515, device='cuda:0')]                                  \n"
     ]
    },
    {
     "data": {
      "text/html": [],
      "text/plain": [
       "<IPython.core.display.HTML object>"
      ]
     },
     "metadata": {},
     "output_type": "display_data"
    },
    {
     "data": {
      "text/html": [
       "<br>    <style><br>        .wandb-row {<br>            display: flex;<br>            flex-direction: row;<br>            flex-wrap: wrap;<br>            justify-content: flex-start;<br>            width: 100%;<br>        }<br>        .wandb-col {<br>            display: flex;<br>            flex-direction: column;<br>            flex-basis: 100%;<br>            flex: 1;<br>            padding: 10px;<br>        }<br>    </style><br><div class=\"wandb-row\"><div class=\"wandb-col\"><h3>Run history:</h3><br/><table class=\"wandb\"><tr><td>Avg Nonzero Elements</td><td>█████▅▄▄▃▂▁▁▁▁▁▁▁▁▁▁▁▁▁▁▁▁▁▁▁▁▁▁▁▁▁▁▁▁▁▁</td></tr><tr><td>Progress</td><td>▁▁▁▂▂▂▂▂▃▃▃▃▃▃▃▄▄▄▄▅▅▅▅▅▅▆▆▆▆▆▆▇▇▇▇▇▇▇██</td></tr><tr><td>Sparsity Loss</td><td>█████▄▃▂▁▁▁▁▁▁▁▁▁▁▁▁▁▁▁▁▁▁▁▁▁▁▁▁▁▁▁▁▁▁▁▁</td></tr><tr><td>Step</td><td>▁▁▁▁▁▂▂▂▂▂▂▂▂▃▃▃▃▃▃▃▄▄▅▅▅▅▅▅▆▆▆▆▆▆▆▇▇▇▇█</td></tr><tr><td>Task Loss</td><td>██▆▆▆▄▅▅▄▄▄▃▂▄▅▄▂▁▄▄▄▂▃▂▃▄▃▃▂▃▂▂▂▅▃▄▂▃▃▁</td></tr><tr><td>avg distinct lat/sae</td><td>███▇▇▅▄▃▃▃▂▁▁▁▁▁▁▁▁▁▁▁▁▁▁▁▁▁▁▁▁▁▁▁▁▁▁▁▁▁</td></tr><tr><td>temperature</td><td>▁▁▁▁▁▁▁▁▁▁▁▁▁▁▁▁▁▁▁▁▁▁▁▁▁▁▁▂▂▂▂▃▃▃▃▄▄▆▆█</td></tr></table><br/></div><div class=\"wandb-col\"><h3>Run summary:</h3><br/><table class=\"wandb\"><tr><td>Avg Nonzero Elements</td><td>0.67692</td></tr><tr><td>Progress</td><td>1.304</td></tr><tr><td>Sparsity Loss</td><td>2.03077</td></tr><tr><td>Step</td><td>163</td></tr><tr><td>Task Loss</td><td>-5.27564</td></tr><tr><td>avg distinct lat/sae</td><td>40</td></tr><tr><td>temperature</td><td>1001.25146</td></tr></table><br/></div></div>"
      ],
      "text/plain": [
       "<IPython.core.display.HTML object>"
      ]
     },
     "metadata": {},
     "output_type": "display_data"
    },
    {
     "data": {
      "text/html": [
       " View run <strong style=\"color:#cdcd00\">glowing-violet-154</strong> at: <a href='https://wandb.ai/llm-research-activated/sae%20circuits/runs/73c4b3b3' target=\"_blank\">https://wandb.ai/llm-research-activated/sae%20circuits/runs/73c4b3b3</a><br> View project at: <a href='https://wandb.ai/llm-research-activated/sae%20circuits' target=\"_blank\">https://wandb.ai/llm-research-activated/sae%20circuits</a><br>Synced 5 W&B file(s), 0 media file(s), 0 artifact file(s) and 0 other file(s)"
      ],
      "text/plain": [
       "<IPython.core.display.HTML object>"
      ]
     },
     "metadata": {},
     "output_type": "display_data"
    },
    {
     "data": {
      "text/html": [
       "Find logs at: <code>./wandb/run-20241227_215145-73c4b3b3/logs</code>"
      ],
      "text/plain": [
       "<IPython.core.display.HTML object>"
      ]
     },
     "metadata": {},
     "output_type": "display_data"
    },
    {
     "name": "stdout",
     "output_type": "stream",
     "text": [
      "total # latents in circuit:  176.0\n",
      "avg density 44.0\n",
      "CE loss: tensor(0.6624, device='cuda:0')\n"
     ]
    }
   ],
   "source": [
    "# do_training_run(14, loss_function='logit_diff', per_token_mask=True, use_mask=True, mean_mask=True)\n",
    "# do_training_run(0.1, loss_function=\"ce\", per_token_mask=True, use_mask=True, mean_mask=True, distinct_sparsity_multiplier=0.02)\n",
    "# do_training_run(0.025, per_token_mask=False, use_mask=True, mean_mask=True)\n",
    "do_training_run(3.0, loss_function=\"logit_diff\", per_token_mask=True, use_mask=True, mean_mask=True)\n"
   ]
  },
  {
   "cell_type": "code",
   "execution_count": 80,
   "metadata": {},
   "outputs": [
    {
     "name": "stdout",
     "output_type": "stream",
     "text": [
      "{'prob_age_given_correct': 0.924264132976532, 'prob_traceback_given_correct(bad)': 0.022306686267256737, 'logit_diff_correct(-=bad)': 8.00454330444336, 'top1_correct': 1.0, 'ce_loss_correct': 0.0787598267197609, 'prob_traceback_given_error': 0.3965848386287689, 'prob_age_given_error(bad)': 0.20049957931041718, 'logit_diff_error(-=bad)': 3.151041030883789, 'top1_error': 1.0, 'ce_loss_error': 0.9248655438423157}\n",
      "0.7988578377303777\n"
     ]
    }
   ],
   "source": [
    "learned_masks = produce_learned_binary_masks()\n",
    "print(\n",
    "sanity_check_model_performance(\n",
    "    build_sae_logitfn(circuit_mask=learned_masks, mean_mask=True)\n",
    ")\n",
    ")\n",
    "\n",
    "print(\n",
    "get_faithfulness(\n",
    "    build_sae_logitfn(circuit_mask=learned_masks, mean_mask=True)\n",
    ")\n",
    ")"
   ]
  },
  {
   "cell_type": "code",
   "execution_count": 282,
   "metadata": {},
   "outputs": [],
   "source": [
    "def logitfn(tokens, vocab_mask=False):\n",
    "    logits =  model.run_with_hooks(\n",
    "        tokens, \n",
    "        return_type=\"logits\", \n",
    "        fwd_hooks=build_hooks_list(tokens, use_mask=True, mean_mask=True, binarize_mask=True)\n",
    "        )\n",
    "    if vocab_mask:\n",
    "        return mask_logits(logits)\n",
    "    return logits\n"
   ]
  },
  {
   "cell_type": "code",
   "execution_count": 289,
   "metadata": {},
   "outputs": [
    {
     "name": "stdout",
     "output_type": "stream",
     "text": [
      "prob_age_given_correct: 0.874530017375946\n",
      "prob_traceback_given_correct(bad): 0.03809851035475731\n",
      "logit_diff_correct(-=bad): 4.940079689025879\n",
      "top1_correct: 1.0\n",
      "ce_loss_correct: 0.13407503068447113\n",
      "prob_traceback_given_error: 0.6129750609397888\n",
      "prob_age_given_error(bad): 0.131747767329216\n",
      "logit_diff_error(-=bad): 2.947051525115967\n",
      "top1_error: 1.0\n",
      "ce_loss_error: 0.48943108320236206\n"
     ]
    }
   ],
   "source": [
    "with torch.no_grad():\n",
    "    pp(sanity_check_model_performance(logitfn))"
   ]
  },
  {
   "cell_type": "code",
   "execution_count": 161,
   "metadata": {},
   "outputs": [
    {
     "name": "stdout",
     "output_type": "stream",
     "text": [
      "original example\n",
      "<bos>Type \"help\", \"copyright\", \"credits\" or \"license\" for more information.\n",
      ">>> age = {'Bob': 14, 'Lucas': 12, 'Rob': 15, 'Jackson': 11, 'Tom': 11}\n",
      ">>> age[\"Jackson\"]\n",
      "\n",
      "original label\n",
      "1\n",
      "torch.Size([256000])\n",
      "torch.Size([256000])\n",
      "['1', '>>>', '2']\n",
      "tensor([0.8805, 0.0355, 0.0118], device='cuda:0')\n",
      "ce loss 0.12732182443141937\n",
      "correct 1\n",
      "correct Traceback\n",
      "correct Traceback\n",
      "correct Traceback\n",
      "correct 1\n",
      "correct 1\n",
      "correct 1\n",
      "correct Traceback\n",
      "correct 1\n",
      "correct 1\n",
      "correct Traceback\n",
      "correct 1\n",
      "correct Traceback\n",
      "correct Traceback\n",
      "correct Traceback\n",
      "correct 1\n",
      "correct: 16 out of 16\n"
     ]
    }
   ],
   "source": [
    "def logitfn(tokens, vocab_mask=False):\n",
    "    logits =  model.run_with_hooks(\n",
    "        tokens, \n",
    "        return_type=\"logits\", \n",
    "        fwd_hooks=build_hooks_list(tokens, use_mask=True, mean_mask=True, binarize_mask=True)\n",
    "        )\n",
    "    if vocab_mask:\n",
    "        return mask_logits(logits)\n",
    "    return logits\n",
    "\n",
    "# def forward_pass(batch, labels, logitfn, ratio_trained=1):\n",
    "#     for sae in saes:\n",
    "#         sae.mask.ratio_trained = ratio_trained\n",
    "#     tokens = batch\n",
    "#     logits = logitfn(tokens)\n",
    "#     last_token_logits = logits[:, -1, :]\n",
    "#     loss = F.cross_entropy(last_token_logits, labels)\n",
    "#     sparsity_loss = 0\n",
    "#     for sae in saes:\n",
    "#         sparsity_loss = sparsity_loss + sae.mask.sparsity_loss\n",
    "    \n",
    "#     sparsity_loss = sparsity_loss / len(saes)\n",
    "\n",
    "    return loss, sparsity_loss\n",
    "with torch.no_grad():\n",
    "    idx = 0\n",
    "    print(\"original example\")\n",
    "    print(f\"{model.to_string(simple_dataset[-1][idx])}\")\n",
    "    print(\"original label\")\n",
    "    print(model.to_string(simple_labels[-1][idx:idx+1]))\n",
    "    logits = logitfn(simple_dataset[-1][idx:idx+1][-1])[-1][-1]\n",
    "    print(logits.shape)\n",
    "    probs = F.softmax(logits, dim=-1)\n",
    "    print(probs.shape)\n",
    "    # get the top 3 tokens and their probabilities\n",
    "    topk = torch.topk(probs, k=3)\n",
    "    print(model.to_str_tokens(topk.indices))\n",
    "    print(topk.values)\n",
    "    # get the cross entropy loss\n",
    "    loss = F.cross_entropy(logits.unsqueeze(0), simple_labels[-1][idx:idx+1])\n",
    "    print(f\"ce loss {loss}\")\n",
    "\n",
    "with torch.no_grad():\n",
    "    correct = 0\n",
    "    num_items = 16\n",
    "    for i in range(num_items):\n",
    "        example = simple_dataset[-2][i]\n",
    "        label = simple_labels[-2][i]\n",
    "        logits = logitfn(example)[-1][-1]\n",
    "        top_logit = torch.argmax(logits)\n",
    "        if top_logit == label:\n",
    "            print(\"correct\", model.to_string(label))\n",
    "            correct += 1\n",
    "        else:\n",
    "            print(\"error\", model.to_string(label))\n",
    "        \n",
    "    print(f\"correct: {correct} out of {num_items}\")"
   ]
  },
  {
   "cell_type": "code",
   "execution_count": 288,
   "metadata": {},
   "outputs": [
    {
     "data": {
      "image/png": "[encoded data removed]",
      "text/plain": [
       "<Figure size 1400x600 with 3 Axes>"
      ]
     },
     "metadata": {},
     "output_type": "display_data"
    },
    {
     "name": "stdout",
     "output_type": "stream",
     "text": [
      "layer 0 latents: 3 🖕\n",
      "layer 1 latents: 11 🖕\n",
      "layer 2 latents: 40 🖕\n",
      "layer 3 latents: 76 🖕\n",
      "total # latents: 130 🖕\n"
     ]
    }
   ],
   "source": [
    "import torch\n",
    "import numpy as np\n",
    "import matplotlib.pyplot as plt\n",
    "import seaborn as sns\n",
    "from matplotlib.colors import ListedColormap, BoundaryNorm\n",
    "\n",
    "# Assuming 'saes', 'model', and 'simple_dataset' are defined\n",
    "tokens = model.to_str_tokens(simple_dataset[2][0])\n",
    "num_masks = 4 # Number of masks you have\n",
    "counts_per_mask = []\n",
    "for mask_index in range(num_masks):\n",
    "    testmask = saes[mask_index].mask.mask.data.clone()\n",
    "    binarized = (testmask > 0.0).float()\n",
    "    counts = []\n",
    "    for i in range(len(tokens)):\n",
    "        counts.append(torch.count_nonzero(binarized[i]).item())\n",
    "    counts_per_mask.append(counts)\n",
    "\n",
    "# Convert counts to a NumPy array\n",
    "data = np.array(counts_per_mask) # Shape: (num_masks, num_tokens)\n",
    "\n",
    "# Create a mask for zero values\n",
    "zero_mask = data == 0\n",
    "\n",
    "# Define a colormap\n",
    "cmap = sns.color_palette(\"viridis\", as_cmap=True)\n",
    "\n",
    "# Plot the heatmap with the mask\n",
    "plt.figure(figsize=(14, 6))\n",
    "ax = sns.heatmap(\n",
    "    data,\n",
    "    annot=True,\n",
    "    fmt='d',\n",
    "    cmap=cmap,\n",
    "    mask=zero_mask,\n",
    "    cbar_kws={'label': 'Counts'},\n",
    "    linewidths=0.5,\n",
    "    linecolor='gray'\n",
    ")\n",
    "\n",
    "# Set x-axis labels to tokens\n",
    "ax.set_xticks(np.arange(len(tokens)) + 0.5)\n",
    "ax.set_xticklabels(tokens, rotation=90, fontsize=8)\n",
    "\n",
    "# Add numeric indices above the chart\n",
    "ax2 = ax.twiny()\n",
    "ax2.set_xlim(ax.get_xlim())\n",
    "ax2.set_xticks(np.arange(len(tokens)) + 0.5)\n",
    "ax2.set_xticklabels(np.arange(len(tokens)), rotation=90)  # Rotate indices 90 degrees\n",
    "ax2.set_xlabel('Token Indices')\n",
    "\n",
    "# Set y-axis labels to masks\n",
    "ax.set_yticks(np.arange(num_masks) + 0.5)\n",
    "ax.set_yticklabels([f'SAE {i}' for i in range(num_masks)], rotation=0)\n",
    "\n",
    "plt.xlabel('Tokens')\n",
    "plt.ylabel('SAE Number Active Latents')\n",
    "plt.title('Active SAE Latents per Token per Mask (Zero Counts Hidden)')\n",
    "plt.tight_layout()\n",
    "plt.show()\n",
    "\n",
    "# print the total # latents in the circuit\n",
    "total_latents = 0\n",
    "for i, sae in enumerate(saes):\n",
    "    print(f\"layer {i} latents: {torch.sum(sae.mask.mask > 0)} \")\n",
    "    total_latents += torch.sum(sae.mask.mask > 0)\n",
    "print(f\"total # latents: {total_latents} \")\n"
   ]
  },
  {
   "cell_type": "code",
   "execution_count": 120,
   "metadata": {},
   "outputs": [
    {
     "data": {
      "text/plain": [
       "tensor([[   52],\n",
       "        [  639],\n",
       "        [  712],\n",
       "        [  718],\n",
       "        [ 1197],\n",
       "        [ 1408],\n",
       "        [ 4708],\n",
       "        [ 6650],\n",
       "        [ 7192],\n",
       "        [ 8082],\n",
       "        [ 8127],\n",
       "        [ 9551],\n",
       "        [10003],\n",
       "        [11135],\n",
       "        [12314],\n",
       "        [12598]], device='cuda:0')"
      ]
     },
     "execution_count": 120,
     "metadata": {},
     "output_type": "execute_result"
    }
   ],
   "source": [
    "torch.nonzero(saes[2].mask.mask[64]>0)"
   ]
  },
  {
   "cell_type": "code",
   "execution_count": 119,
   "metadata": {},
   "outputs": [
    {
     "name": "stdout",
     "output_type": "stream",
     "text": [
      "<bos>Type \"help\", \"copyright\", \"credits\" or \"license\" for more information.\n",
      ">>> age = {'Isabella': 49, 'Emma': 78, 'Tom': 27, 'Ethan': 48, 'Ava': 62}\n",
      ">>> age[\"Ava\"]\n",
      "\n"
     ]
    }
   ],
   "source": [
    "print(model.to_string(simple_dataset[0][2]))"
   ]
  },
  {
   "cell_type": "markdown",
   "metadata": {},
   "source": [
    "## HPRAM sweep"
   ]
  },
  {
   "cell_type": "code",
   "execution_count": 81,
   "metadata": {},
   "outputs": [],
   "source": [
    "def produce_learned_binary_mask(threshold):\n",
    "    do_training_run(threshold, loss_function=\"logit_diff\", per_token_mask=True, use_mask=True, mean_mask=True)\n",
    "    learned_masks = produce_learned_binary_masks()\n",
    "    return learned_masks"
   ]
  },
  {
   "cell_type": "code",
   "execution_count": 90,
   "metadata": {},
   "outputs": [
    {
     "name": "stderr",
     "output_type": "stream",
     "text": [
      "  0%|          | 0/10 [00:00<?, ?it/s]"
     ]
    },
    {
     "name": "stdout",
     "output_type": "stream",
     "text": [
      "doing a run with sparsity multiplier 1.4\n"
     ]
    },
    {
     "data": {
      "text/html": [
       "Tracking run with wandb version 0.19.1"
      ],
      "text/plain": [
       "<IPython.core.display.HTML object>"
      ]
     },
     "metadata": {},
     "output_type": "display_data"
    },
    {
     "data": {
      "text/html": [
       "Run data is saved locally in <code>/workspace/ScalableSAECircuits/wandb/run-20241228_002640-62umwvjt</code>"
      ],
      "text/plain": [
       "<IPython.core.display.HTML object>"
      ]
     },
     "metadata": {},
     "output_type": "display_data"
    },
    {
     "data": {
      "text/html": [
       "Syncing run <strong><a href='https://wandb.ai/llm-research-activated/sae%20circuits/runs/62umwvjt' target=\"_blank\">absurd-butterfly-185</a></strong> to <a href='https://wandb.ai/llm-research-activated/sae%20circuits' target=\"_blank\">Weights & Biases</a> (<a href='https://wandb.me/developer-guide' target=\"_blank\">docs</a>)<br>"
      ],
      "text/plain": [
       "<IPython.core.display.HTML object>"
      ]
     },
     "metadata": {},
     "output_type": "display_data"
    },
    {
     "data": {
      "text/html": [
       " View project at <a href='https://wandb.ai/llm-research-activated/sae%20circuits' target=\"_blank\">https://wandb.ai/llm-research-activated/sae%20circuits</a>"
      ],
      "text/plain": [
       "<IPython.core.display.HTML object>"
      ]
     },
     "metadata": {},
     "output_type": "display_data"
    },
    {
     "data": {
      "text/html": [
       " View run at <a href='https://wandb.ai/llm-research-activated/sae%20circuits/runs/62umwvjt' target=\"_blank\">https://wandb.ai/llm-research-activated/sae%20circuits/runs/62umwvjt</a>"
      ],
      "text/plain": [
       "<IPython.core.display.HTML object>"
      ]
     },
     "metadata": {},
     "output_type": "display_data"
    },
    {
     "name": "stderr",
     "output_type": "stream",
     "text": [
      "Training Progress: 164it [03:51,  1.41s/it, Step=163, Progress=1.3, Avg Nonzero Elements=1.1, avg distinct lat/sae=65.2, Task Loss=-6.15, Sparsity Loss=1.53, temperature=tensor(1001.2515, device='cuda:0')]\n"
     ]
    },
    {
     "data": {
      "text/html": [],
      "text/plain": [
       "<IPython.core.display.HTML object>"
      ]
     },
     "metadata": {},
     "output_type": "display_data"
    },
    {
     "data": {
      "text/html": [
       "<br>    <style><br>        .wandb-row {<br>            display: flex;<br>            flex-direction: row;<br>            flex-wrap: wrap;<br>            justify-content: flex-start;<br>            width: 100%;<br>        }<br>        .wandb-col {<br>            display: flex;<br>            flex-direction: column;<br>            flex-basis: 100%;<br>            flex: 1;<br>            padding: 10px;<br>        }<br>    </style><br><div class=\"wandb-row\"><div class=\"wandb-col\"><h3>Run history:</h3><br/><table class=\"wandb\"><tr><td>Avg Nonzero Elements</td><td>███▇▇▄▃▃▃▁▁▁▁▁▁▁▁▁▁▁▁▁▁▁▁▁▁▁▁▁▁▁▁▁▁▁▁▁▁▁</td></tr><tr><td>Progress</td><td>▁▁▁▂▂▂▂▂▂▂▃▃▃▄▄▄▄▄▅▅▅▅▅▅▅▆▆▆▆▆▇▇▇▇▇▇▇███</td></tr><tr><td>Sparsity Loss</td><td>███▇▇▆▆▄▄▂▂▁▁▁▁▁▁▁▁▁▁▁▁▁▁▁▁▁▁▁▁▁▁▁▁▁▁▁▁▁</td></tr><tr><td>Step</td><td>▁▁▁▁▂▂▂▂▂▃▃▃▃▄▄▄▄▄▄▄▄▅▅▅▅▅▅▆▆▆▆▆▆▆▇▇▇███</td></tr><tr><td>Task Loss</td><td>██▆▇▅▃▃▂▃▄▄▃▅▁▃▄▁▃▂▃▂▂▄▃▂▂▁▂▂▃▁▂▄▃▄▄▁▃▄▄</td></tr><tr><td>avg distinct lat/sae</td><td>█████▇▄▂▂▁▁▁▁▁▁▁▁▁▁▁▁▁▁▁▁▁▁▁▁▁▁▁▁▁▁▁▁▁▁▁</td></tr><tr><td>temperature</td><td>▁▁▁▁▁▁▁▁▁▁▁▁▁▁▁▁▁▁▁▁▁▁▁▂▂▂▂▂▂▂▂▃▃▃▃▄▄▅▇█</td></tr></table><br/></div><div class=\"wandb-col\"><h3>Run summary:</h3><br/><table class=\"wandb\"><tr><td>Avg Nonzero Elements</td><td>1.09615</td></tr><tr><td>Progress</td><td>1.304</td></tr><tr><td>Sparsity Loss</td><td>1.53462</td></tr><tr><td>Step</td><td>163</td></tr><tr><td>Task Loss</td><td>-6.15362</td></tr><tr><td>avg distinct lat/sae</td><td>65.25</td></tr><tr><td>temperature</td><td>1001.25146</td></tr></table><br/></div></div>"
      ],
      "text/plain": [
       "<IPython.core.display.HTML object>"
      ]
     },
     "metadata": {},
     "output_type": "display_data"
    },
    {
     "data": {
      "text/html": [
       " View run <strong style=\"color:#cdcd00\">absurd-butterfly-185</strong> at: <a href='https://wandb.ai/llm-research-activated/sae%20circuits/runs/62umwvjt' target=\"_blank\">https://wandb.ai/llm-research-activated/sae%20circuits/runs/62umwvjt</a><br> View project at: <a href='https://wandb.ai/llm-research-activated/sae%20circuits' target=\"_blank\">https://wandb.ai/llm-research-activated/sae%20circuits</a><br>Synced 5 W&B file(s), 0 media file(s), 0 artifact file(s) and 0 other file(s)"
      ],
      "text/plain": [
       "<IPython.core.display.HTML object>"
      ]
     },
     "metadata": {},
     "output_type": "display_data"
    },
    {
     "data": {
      "text/html": [
       "Find logs at: <code>./wandb/run-20241228_002640-62umwvjt/logs</code>"
      ],
      "text/plain": [
       "<IPython.core.display.HTML object>"
      ]
     },
     "metadata": {},
     "output_type": "display_data"
    },
    {
     "name": "stdout",
     "output_type": "stream",
     "text": [
      "total # latents in circuit:  285.0\n",
      "avg density 71.25\n",
      "CE loss: tensor(0.5347, device='cuda:0')\n"
     ]
    },
    {
     "name": "stderr",
     "output_type": "stream",
     "text": [
      " 10%|█         | 1/10 [03:56<35:25, 236.14s/it]"
     ]
    },
    {
     "name": "stdout",
     "output_type": "stream",
     "text": [
      "doing a run with sparsity multiplier 1.915528662420382\n"
     ]
    },
    {
     "data": {
      "text/html": [
       "Tracking run with wandb version 0.19.1"
      ],
      "text/plain": [
       "<IPython.core.display.HTML object>"
      ]
     },
     "metadata": {},
     "output_type": "display_data"
    },
    {
     "data": {
      "text/html": [
       "Run data is saved locally in <code>/workspace/ScalableSAECircuits/wandb/run-20241228_003037-53efyeup</code>"
      ],
      "text/plain": [
       "<IPython.core.display.HTML object>"
      ]
     },
     "metadata": {},
     "output_type": "display_data"
    },
    {
     "data": {
      "text/html": [
       "Syncing run <strong><a href='https://wandb.ai/llm-research-activated/sae%20circuits/runs/53efyeup' target=\"_blank\">logical-river-186</a></strong> to <a href='https://wandb.ai/llm-research-activated/sae%20circuits' target=\"_blank\">Weights & Biases</a> (<a href='https://wandb.me/developer-guide' target=\"_blank\">docs</a>)<br>"
      ],
      "text/plain": [
       "<IPython.core.display.HTML object>"
      ]
     },
     "metadata": {},
     "output_type": "display_data"
    },
    {
     "data": {
      "text/html": [
       " View project at <a href='https://wandb.ai/llm-research-activated/sae%20circuits' target=\"_blank\">https://wandb.ai/llm-research-activated/sae%20circuits</a>"
      ],
      "text/plain": [
       "<IPython.core.display.HTML object>"
      ]
     },
     "metadata": {},
     "output_type": "display_data"
    },
    {
     "data": {
      "text/html": [
       " View run at <a href='https://wandb.ai/llm-research-activated/sae%20circuits/runs/53efyeup' target=\"_blank\">https://wandb.ai/llm-research-activated/sae%20circuits/runs/53efyeup</a>"
      ],
      "text/plain": [
       "<IPython.core.display.HTML object>"
      ]
     },
     "metadata": {},
     "output_type": "display_data"
    },
    {
     "name": "stderr",
     "output_type": "stream",
     "text": [
      "Training Progress: 164it [03:52,  1.42s/it, Step=163, Progress=1.3, Avg Nonzero Elements=0.904, avg distinct lat/sae=53.2, Task Loss=-5.82, Sparsity Loss=1.73, temperature=tensor(1001.2515, device='cuda:0')]\n"
     ]
    },
    {
     "data": {
      "text/html": [],
      "text/plain": [
       "<IPython.core.display.HTML object>"
      ]
     },
     "metadata": {},
     "output_type": "display_data"
    },
    {
     "data": {
      "text/html": [
       "<br>    <style><br>        .wandb-row {<br>            display: flex;<br>            flex-direction: row;<br>            flex-wrap: wrap;<br>            justify-content: flex-start;<br>            width: 100%;<br>        }<br>        .wandb-col {<br>            display: flex;<br>            flex-direction: column;<br>            flex-basis: 100%;<br>            flex: 1;<br>            padding: 10px;<br>        }<br>    </style><br><div class=\"wandb-row\"><div class=\"wandb-col\"><h3>Run history:</h3><br/><table class=\"wandb\"><tr><td>Avg Nonzero Elements</td><td>█▇▇▆▆▄▄▁▁▁▁▁▁▁▁▁▁▁▁▁▁▁▁▁▁▁▁▁▁▁▁▁▁▁▁▁▁▁▁▁</td></tr><tr><td>Progress</td><td>▁▁▁▁▂▂▂▂▂▃▃▃▃▃▃▃▄▄▄▄▅▅▅▅▅▅▆▆▆▆▆▆▆▇▇▇▇███</td></tr><tr><td>Sparsity Loss</td><td>███▇▆▅▂▂▁▁▁▁▁▁▁▁▁▁▁▁▁▁▁▁▁▁▁▁▁▁▁▁▁▁▁▁▁▁▁▁</td></tr><tr><td>Step</td><td>▁▁▁▂▂▂▂▃▃▃▃▃▃▃▃▄▄▄▄▄▄▄▅▅▅▅▆▆▆▆▇▇▇▇▇▇▇███</td></tr><tr><td>Task Loss</td><td>██▇▆▆▅▄▅▆▆▃▅▃▄▄▅▄▄▄▅▁▅▄▄▅▄▅▅▃▅▆▅▄▃▂▅▃▅▄▂</td></tr><tr><td>avg distinct lat/sae</td><td>██▇▇▆▃▂▂▁▁▁▁▁▁▁▁▁▁▁▁▁▁▁▁▁▁▁▁▁▁▁▁▁▁▁▁▁▁▁▁</td></tr><tr><td>temperature</td><td>▁▁▁▁▁▁▁▁▁▁▁▁▁▁▁▁▁▁▁▁▁▁▂▂▂▂▂▂▂▃▃▄▄▄▅▆▇▇▇█</td></tr></table><br/></div><div class=\"wandb-col\"><h3>Run summary:</h3><br/><table class=\"wandb\"><tr><td>Avg Nonzero Elements</td><td>0.90385</td></tr><tr><td>Progress</td><td>1.304</td></tr><tr><td>Sparsity Loss</td><td>1.73134</td></tr><tr><td>Step</td><td>163</td></tr><tr><td>Task Loss</td><td>-5.82243</td></tr><tr><td>avg distinct lat/sae</td><td>53.25</td></tr><tr><td>temperature</td><td>1001.25146</td></tr></table><br/></div></div>"
      ],
      "text/plain": [
       "<IPython.core.display.HTML object>"
      ]
     },
     "metadata": {},
     "output_type": "display_data"
    },
    {
     "data": {
      "text/html": [
       " View run <strong style=\"color:#cdcd00\">logical-river-186</strong> at: <a href='https://wandb.ai/llm-research-activated/sae%20circuits/runs/53efyeup' target=\"_blank\">https://wandb.ai/llm-research-activated/sae%20circuits/runs/53efyeup</a><br> View project at: <a href='https://wandb.ai/llm-research-activated/sae%20circuits' target=\"_blank\">https://wandb.ai/llm-research-activated/sae%20circuits</a><br>Synced 5 W&B file(s), 0 media file(s), 0 artifact file(s) and 0 other file(s)"
      ],
      "text/plain": [
       "<IPython.core.display.HTML object>"
      ]
     },
     "metadata": {},
     "output_type": "display_data"
    },
    {
     "data": {
      "text/html": [
       "Find logs at: <code>./wandb/run-20241228_003037-53efyeup/logs</code>"
      ],
      "text/plain": [
       "<IPython.core.display.HTML object>"
      ]
     },
     "metadata": {},
     "output_type": "display_data"
    },
    {
     "name": "stdout",
     "output_type": "stream",
     "text": [
      "total # latents in circuit:  235.0\n",
      "avg density 58.75\n",
      "CE loss: tensor(0.6037, device='cuda:0')\n"
     ]
    },
    {
     "name": "stderr",
     "output_type": "stream",
     "text": [
      " 20%|██        | 2/10 [07:53<31:35, 236.95s/it]"
     ]
    },
    {
     "name": "stdout",
     "output_type": "stream",
     "text": [
      "doing a run with sparsity multiplier 2.9520509554140135\n"
     ]
    },
    {
     "data": {
      "text/html": [
       "Tracking run with wandb version 0.19.1"
      ],
      "text/plain": [
       "<IPython.core.display.HTML object>"
      ]
     },
     "metadata": {},
     "output_type": "display_data"
    },
    {
     "data": {
      "text/html": [
       "Run data is saved locally in <code>/workspace/ScalableSAECircuits/wandb/run-20241228_003434-q51du54m</code>"
      ],
      "text/plain": [
       "<IPython.core.display.HTML object>"
      ]
     },
     "metadata": {},
     "output_type": "display_data"
    },
    {
     "data": {
      "text/html": [
       "Syncing run <strong><a href='https://wandb.ai/llm-research-activated/sae%20circuits/runs/q51du54m' target=\"_blank\">polished-cherry-187</a></strong> to <a href='https://wandb.ai/llm-research-activated/sae%20circuits' target=\"_blank\">Weights & Biases</a> (<a href='https://wandb.me/developer-guide' target=\"_blank\">docs</a>)<br>"
      ],
      "text/plain": [
       "<IPython.core.display.HTML object>"
      ]
     },
     "metadata": {},
     "output_type": "display_data"
    },
    {
     "data": {
      "text/html": [
       " View project at <a href='https://wandb.ai/llm-research-activated/sae%20circuits' target=\"_blank\">https://wandb.ai/llm-research-activated/sae%20circuits</a>"
      ],
      "text/plain": [
       "<IPython.core.display.HTML object>"
      ]
     },
     "metadata": {},
     "output_type": "display_data"
    },
    {
     "data": {
      "text/html": [
       " View run at <a href='https://wandb.ai/llm-research-activated/sae%20circuits/runs/q51du54m' target=\"_blank\">https://wandb.ai/llm-research-activated/sae%20circuits/runs/q51du54m</a>"
      ],
      "text/plain": [
       "<IPython.core.display.HTML object>"
      ]
     },
     "metadata": {},
     "output_type": "display_data"
    },
    {
     "name": "stderr",
     "output_type": "stream",
     "text": [
      "Training Progress: 164it [03:52,  1.42s/it, Step=163, Progress=1.3, Avg Nonzero Elements=0.685, avg distinct lat/sae=40.5, Task Loss=-5.3, Sparsity Loss=2.02, temperature=tensor(1001.2515, device='cuda:0')]\n"
     ]
    },
    {
     "data": {
      "text/html": [],
      "text/plain": [
       "<IPython.core.display.HTML object>"
      ]
     },
     "metadata": {},
     "output_type": "display_data"
    },
    {
     "data": {
      "text/html": [
       "<br>    <style><br>        .wandb-row {<br>            display: flex;<br>            flex-direction: row;<br>            flex-wrap: wrap;<br>            justify-content: flex-start;<br>            width: 100%;<br>        }<br>        .wandb-col {<br>            display: flex;<br>            flex-direction: column;<br>            flex-basis: 100%;<br>            flex: 1;<br>            padding: 10px;<br>        }<br>    </style><br><div class=\"wandb-row\"><div class=\"wandb-col\"><h3>Run history:</h3><br/><table class=\"wandb\"><tr><td>Avg Nonzero Elements</td><td>██▆▅▄▃▁▁▁▁▁▁▁▁▁▁▁▁▁▁▁▁▁▁▁▁▁▁▁▁▁▁▁▁▁▁▁▁▁▁</td></tr><tr><td>Progress</td><td>▁▁▁▁▂▂▃▃▃▃▃▃▃▃▄▄▄▄▄▄▅▅▅▅▅▆▆▆▆▆▇▇▇▇▇▇▇▇██</td></tr><tr><td>Sparsity Loss</td><td>████▇▇▆▆▄▄▂▁▁▁▁▁▁▁▁▁▁▁▁▁▁▁▁▁▁▁▁▁▁▁▁▁▁▁▁▁</td></tr><tr><td>Step</td><td>▁▁▁▁▂▂▂▂▂▂▃▃▃▃▃▃▃▄▄▄▄▄▄▅▅▅▆▆▆▆▆▆▇▇▇▇▇███</td></tr><tr><td>Task Loss</td><td>█▇▇▆▇▅▆▅▅▄▃▄▄▄▃▄▅▄▅▄▅▄▅▄▄▄▁▄▂▃▃▅▃▄▃▃▂▄▅▄</td></tr><tr><td>avg distinct lat/sae</td><td>██▇▇▇▆▅▄▃▂▂▁▁▁▁▁▁▁▁▁▁▁▁▁▁▁▁▁▁▁▁▁▁▁▁▁▁▁▁▁</td></tr><tr><td>temperature</td><td>▁▁▁▁▁▁▁▁▁▁▁▁▁▁▁▁▁▁▁▁▁▂▂▂▂▂▂▂▂▃▃▃▄▄▄▅▅▅▇█</td></tr></table><br/></div><div class=\"wandb-col\"><h3>Run summary:</h3><br/><table class=\"wandb\"><tr><td>Avg Nonzero Elements</td><td>0.68462</td></tr><tr><td>Progress</td><td>1.304</td></tr><tr><td>Sparsity Loss</td><td>2.02102</td></tr><tr><td>Step</td><td>163</td></tr><tr><td>Task Loss</td><td>-5.29902</td></tr><tr><td>avg distinct lat/sae</td><td>40.5</td></tr><tr><td>temperature</td><td>1001.25146</td></tr></table><br/></div></div>"
      ],
      "text/plain": [
       "<IPython.core.display.HTML object>"
      ]
     },
     "metadata": {},
     "output_type": "display_data"
    },
    {
     "data": {
      "text/html": [
       " View run <strong style=\"color:#cdcd00\">polished-cherry-187</strong> at: <a href='https://wandb.ai/llm-research-activated/sae%20circuits/runs/q51du54m' target=\"_blank\">https://wandb.ai/llm-research-activated/sae%20circuits/runs/q51du54m</a><br> View project at: <a href='https://wandb.ai/llm-research-activated/sae%20circuits' target=\"_blank\">https://wandb.ai/llm-research-activated/sae%20circuits</a><br>Synced 5 W&B file(s), 0 media file(s), 0 artifact file(s) and 0 other file(s)"
      ],
      "text/plain": [
       "<IPython.core.display.HTML object>"
      ]
     },
     "metadata": {},
     "output_type": "display_data"
    },
    {
     "data": {
      "text/html": [
       "Find logs at: <code>./wandb/run-20241228_003434-q51du54m/logs</code>"
      ],
      "text/plain": [
       "<IPython.core.display.HTML object>"
      ]
     },
     "metadata": {},
     "output_type": "display_data"
    },
    {
     "name": "stdout",
     "output_type": "stream",
     "text": [
      "total # latents in circuit:  178.0\n",
      "avg density 44.5\n",
      "CE loss: tensor(0.6568, device='cuda:0')\n"
     ]
    },
    {
     "name": "stderr",
     "output_type": "stream",
     "text": [
      " 30%|███       | 3/10 [11:51<27:40, 237.19s/it]"
     ]
    },
    {
     "name": "stdout",
     "output_type": "stream",
     "text": [
      "doing a run with sparsity multiplier 4.509566878980894\n"
     ]
    },
    {
     "data": {
      "text/html": [
       "Tracking run with wandb version 0.19.1"
      ],
      "text/plain": [
       "<IPython.core.display.HTML object>"
      ]
     },
     "metadata": {},
     "output_type": "display_data"
    },
    {
     "data": {
      "text/html": [
       "Run data is saved locally in <code>/workspace/ScalableSAECircuits/wandb/run-20241228_003832-c32yr78a</code>"
      ],
      "text/plain": [
       "<IPython.core.display.HTML object>"
      ]
     },
     "metadata": {},
     "output_type": "display_data"
    },
    {
     "data": {
      "text/html": [
       "Syncing run <strong><a href='https://wandb.ai/llm-research-activated/sae%20circuits/runs/c32yr78a' target=\"_blank\">feasible-snow-188</a></strong> to <a href='https://wandb.ai/llm-research-activated/sae%20circuits' target=\"_blank\">Weights & Biases</a> (<a href='https://wandb.me/developer-guide' target=\"_blank\">docs</a>)<br>"
      ],
      "text/plain": [
       "<IPython.core.display.HTML object>"
      ]
     },
     "metadata": {},
     "output_type": "display_data"
    },
    {
     "data": {
      "text/html": [
       " View project at <a href='https://wandb.ai/llm-research-activated/sae%20circuits' target=\"_blank\">https://wandb.ai/llm-research-activated/sae%20circuits</a>"
      ],
      "text/plain": [
       "<IPython.core.display.HTML object>"
      ]
     },
     "metadata": {},
     "output_type": "display_data"
    },
    {
     "data": {
      "text/html": [
       " View run at <a href='https://wandb.ai/llm-research-activated/sae%20circuits/runs/c32yr78a' target=\"_blank\">https://wandb.ai/llm-research-activated/sae%20circuits/runs/c32yr78a</a>"
      ],
      "text/plain": [
       "<IPython.core.display.HTML object>"
      ]
     },
     "metadata": {},
     "output_type": "display_data"
    },
    {
     "name": "stderr",
     "output_type": "stream",
     "text": [
      "Training Progress: 164it [03:52,  1.42s/it, Step=163, Progress=1.3, Avg Nonzero Elements=0.477, avg distinct lat/sae=29.2, Task Loss=-4.38, Sparsity Loss=2.15, temperature=tensor(1001.2515, device='cuda:0')]\n"
     ]
    },
    {
     "data": {
      "text/html": [],
      "text/plain": [
       "<IPython.core.display.HTML object>"
      ]
     },
     "metadata": {},
     "output_type": "display_data"
    },
    {
     "data": {
      "text/html": [
       "<br>    <style><br>        .wandb-row {<br>            display: flex;<br>            flex-direction: row;<br>            flex-wrap: wrap;<br>            justify-content: flex-start;<br>            width: 100%;<br>        }<br>        .wandb-col {<br>            display: flex;<br>            flex-direction: column;<br>            flex-basis: 100%;<br>            flex: 1;<br>            padding: 10px;<br>        }<br>    </style><br><div class=\"wandb-row\"><div class=\"wandb-col\"><h3>Run history:</h3><br/><table class=\"wandb\"><tr><td>Avg Nonzero Elements</td><td>███▇▇▄▃▁▁▁▁▁▁▁▁▁▁▁▁▁▁▁▁▁▁▁▁▁▁▁▁▁▁▁▁▁▁▁▁▁</td></tr><tr><td>Progress</td><td>▁▁▁▁▂▂▂▃▃▃▃▃▄▄▄▄▄▄▄▄▅▅▅▅▆▆▆▆▆▆▇▇▇▇▇▇████</td></tr><tr><td>Sparsity Loss</td><td>██▇▃▃▁▁▁▁▁▁▁▁▁▁▁▁▁▁▁▁▁▁▁▁▁▁▁▁▁▁▁▁▁▁▁▁▁▁▁</td></tr><tr><td>Step</td><td>▁▁▁▁▁▂▂▂▂▂▃▃▃▃▃▄▄▄▄▄▄▄▅▅▅▅▅▅▆▆▆▆▆▇▇▇▇▇██</td></tr><tr><td>Task Loss</td><td>█▆▆▅▇▆▅▅▄▅▆▄▃▃▃▃▃▅▁▃▃▄▃▄▅▃▃▃▄▃▃▆▄▄▂▂▄▄▁▄</td></tr><tr><td>avg distinct lat/sae</td><td>█▇▆▅▃▂▁▁▁▁▁▁▁▁▁▁▁▁▁▁▁▁▁▁▁▁▁▁▁▁▁▁▁▁▁▁▁▁▁▁</td></tr><tr><td>temperature</td><td>▁▁▁▁▁▁▁▁▁▁▁▁▁▁▁▁▁▁▁▁▁▁▁▁▁▁▁▁▂▂▂▂▂▃▃▄▄▅▇█</td></tr></table><br/></div><div class=\"wandb-col\"><h3>Run summary:</h3><br/><table class=\"wandb\"><tr><td>Avg Nonzero Elements</td><td>0.47692</td></tr><tr><td>Progress</td><td>1.304</td></tr><tr><td>Sparsity Loss</td><td>2.15072</td></tr><tr><td>Step</td><td>163</td></tr><tr><td>Task Loss</td><td>-4.38088</td></tr><tr><td>avg distinct lat/sae</td><td>29.25</td></tr><tr><td>temperature</td><td>1001.25146</td></tr></table><br/></div></div>"
      ],
      "text/plain": [
       "<IPython.core.display.HTML object>"
      ]
     },
     "metadata": {},
     "output_type": "display_data"
    },
    {
     "data": {
      "text/html": [
       " View run <strong style=\"color:#cdcd00\">feasible-snow-188</strong> at: <a href='https://wandb.ai/llm-research-activated/sae%20circuits/runs/c32yr78a' target=\"_blank\">https://wandb.ai/llm-research-activated/sae%20circuits/runs/c32yr78a</a><br> View project at: <a href='https://wandb.ai/llm-research-activated/sae%20circuits' target=\"_blank\">https://wandb.ai/llm-research-activated/sae%20circuits</a><br>Synced 5 W&B file(s), 0 media file(s), 0 artifact file(s) and 0 other file(s)"
      ],
      "text/plain": [
       "<IPython.core.display.HTML object>"
      ]
     },
     "metadata": {},
     "output_type": "display_data"
    },
    {
     "data": {
      "text/html": [
       "Find logs at: <code>./wandb/run-20241228_003832-c32yr78a/logs</code>"
      ],
      "text/plain": [
       "<IPython.core.display.HTML object>"
      ]
     },
     "metadata": {},
     "output_type": "display_data"
    },
    {
     "name": "stdout",
     "output_type": "stream",
     "text": [
      "total # latents in circuit:  124.0\n",
      "avg density 31.0\n",
      "CE loss: tensor(0.7176, device='cuda:0')\n"
     ]
    },
    {
     "name": "stderr",
     "output_type": "stream",
     "text": [
      " 40%|████      | 4/10 [15:48<23:44, 237.39s/it]"
     ]
    },
    {
     "name": "stdout",
     "output_type": "stream",
     "text": [
      "doing a run with sparsity multiplier 6.588076433121021\n"
     ]
    },
    {
     "data": {
      "text/html": [
       "Tracking run with wandb version 0.19.1"
      ],
      "text/plain": [
       "<IPython.core.display.HTML object>"
      ]
     },
     "metadata": {},
     "output_type": "display_data"
    },
    {
     "data": {
      "text/html": [
       "Run data is saved locally in <code>/workspace/ScalableSAECircuits/wandb/run-20241228_004229-rcucwt5i</code>"
      ],
      "text/plain": [
       "<IPython.core.display.HTML object>"
      ]
     },
     "metadata": {},
     "output_type": "display_data"
    },
    {
     "data": {
      "text/html": [
       "Syncing run <strong><a href='https://wandb.ai/llm-research-activated/sae%20circuits/runs/rcucwt5i' target=\"_blank\">balmy-thunder-189</a></strong> to <a href='https://wandb.ai/llm-research-activated/sae%20circuits' target=\"_blank\">Weights & Biases</a> (<a href='https://wandb.me/developer-guide' target=\"_blank\">docs</a>)<br>"
      ],
      "text/plain": [
       "<IPython.core.display.HTML object>"
      ]
     },
     "metadata": {},
     "output_type": "display_data"
    },
    {
     "data": {
      "text/html": [
       " View project at <a href='https://wandb.ai/llm-research-activated/sae%20circuits' target=\"_blank\">https://wandb.ai/llm-research-activated/sae%20circuits</a>"
      ],
      "text/plain": [
       "<IPython.core.display.HTML object>"
      ]
     },
     "metadata": {},
     "output_type": "display_data"
    },
    {
     "data": {
      "text/html": [
       " View run at <a href='https://wandb.ai/llm-research-activated/sae%20circuits/runs/rcucwt5i' target=\"_blank\">https://wandb.ai/llm-research-activated/sae%20circuits/runs/rcucwt5i</a>"
      ],
      "text/plain": [
       "<IPython.core.display.HTML object>"
      ]
     },
     "metadata": {},
     "output_type": "display_data"
    },
    {
     "name": "stderr",
     "output_type": "stream",
     "text": [
      "Training Progress: 164it [03:52,  1.42s/it, Step=163, Progress=1.3, Avg Nonzero Elements=0.323, avg distinct lat/sae=19.5, Task Loss=-3.56, Sparsity Loss=2.13, temperature=tensor(1001.2515, device='cuda:0')]\n"
     ]
    },
    {
     "data": {
      "text/html": [],
      "text/plain": [
       "<IPython.core.display.HTML object>"
      ]
     },
     "metadata": {},
     "output_type": "display_data"
    },
    {
     "data": {
      "text/html": [
       "<br>    <style><br>        .wandb-row {<br>            display: flex;<br>            flex-direction: row;<br>            flex-wrap: wrap;<br>            justify-content: flex-start;<br>            width: 100%;<br>        }<br>        .wandb-col {<br>            display: flex;<br>            flex-direction: column;<br>            flex-basis: 100%;<br>            flex: 1;<br>            padding: 10px;<br>        }<br>    </style><br><div class=\"wandb-row\"><div class=\"wandb-col\"><h3>Run history:</h3><br/><table class=\"wandb\"><tr><td>Avg Nonzero Elements</td><td>███▇▇▆▆▄▃▁▁▁▁▁▁▁▁▁▁▁▁▁▁▁▁▁▁▁▁▁▁▁▁▁▁▁▁▁▁▁</td></tr><tr><td>Progress</td><td>▁▁▁▁▁▂▂▂▂▂▂▃▃▃▃▃▃▄▄▄▄▄▄▄▅▅▅▆▆▆▆▆▆▇▇▇▇███</td></tr><tr><td>Sparsity Loss</td><td>███▇▆▁▁▁▁▁▁▁▁▁▁▁▁▁▁▁▁▁▁▁▁▁▁▁▁▁▁▁▁▁▁▁▁▁▁▁</td></tr><tr><td>Step</td><td>▁▁▁▁▁▁▁▂▂▂▂▂▂▂▃▃▃▃▄▄▅▅▅▅▅▅▆▆▆▆▆▇▇▇▇█████</td></tr><tr><td>Task Loss</td><td>▇█▇▇▅▇▇▃▄▄▃▄▆▅▆▆▃▅▆▃▃▅▃▄▃▃▄▃▅▂▆▁▄▅▅▅▄▂▂▅</td></tr><tr><td>avg distinct lat/sae</td><td>███▇▆▄▄▃▃▂▁▁▁▁▁▁▁▁▁▁▁▁▁▁▁▁▁▁▁▁▁▁▁▁▁▁▁▁▁▁</td></tr><tr><td>temperature</td><td>▁▁▁▁▁▁▁▁▁▁▁▁▁▁▁▁▁▁▁▁▁▁▁▁▂▂▂▂▂▂▃▃▃▃▄▅▅▆▇█</td></tr></table><br/></div><div class=\"wandb-col\"><h3>Run summary:</h3><br/><table class=\"wandb\"><tr><td>Avg Nonzero Elements</td><td>0.32308</td></tr><tr><td>Progress</td><td>1.304</td></tr><tr><td>Sparsity Loss</td><td>2.12846</td></tr><tr><td>Step</td><td>163</td></tr><tr><td>Task Loss</td><td>-3.55641</td></tr><tr><td>avg distinct lat/sae</td><td>19.5</td></tr><tr><td>temperature</td><td>1001.25146</td></tr></table><br/></div></div>"
      ],
      "text/plain": [
       "<IPython.core.display.HTML object>"
      ]
     },
     "metadata": {},
     "output_type": "display_data"
    },
    {
     "data": {
      "text/html": [
       " View run <strong style=\"color:#cdcd00\">balmy-thunder-189</strong> at: <a href='https://wandb.ai/llm-research-activated/sae%20circuits/runs/rcucwt5i' target=\"_blank\">https://wandb.ai/llm-research-activated/sae%20circuits/runs/rcucwt5i</a><br> View project at: <a href='https://wandb.ai/llm-research-activated/sae%20circuits' target=\"_blank\">https://wandb.ai/llm-research-activated/sae%20circuits</a><br>Synced 5 W&B file(s), 0 media file(s), 0 artifact file(s) and 0 other file(s)"
      ],
      "text/plain": [
       "<IPython.core.display.HTML object>"
      ]
     },
     "metadata": {},
     "output_type": "display_data"
    },
    {
     "data": {
      "text/html": [
       "Find logs at: <code>./wandb/run-20241228_004229-rcucwt5i/logs</code>"
      ],
      "text/plain": [
       "<IPython.core.display.HTML object>"
      ]
     },
     "metadata": {},
     "output_type": "display_data"
    },
    {
     "name": "stdout",
     "output_type": "stream",
     "text": [
      "total # latents in circuit:  84.0\n",
      "avg density 21.0\n",
      "CE loss: tensor(0.8149, device='cuda:0')\n"
     ]
    },
    {
     "name": "stderr",
     "output_type": "stream",
     "text": [
      " 50%|█████     | 5/10 [19:46<19:47, 237.41s/it]"
     ]
    },
    {
     "name": "stdout",
     "output_type": "stream",
     "text": [
      "doing a run with sparsity multiplier 9.187579617834396\n"
     ]
    },
    {
     "data": {
      "text/html": [
       "Tracking run with wandb version 0.19.1"
      ],
      "text/plain": [
       "<IPython.core.display.HTML object>"
      ]
     },
     "metadata": {},
     "output_type": "display_data"
    },
    {
     "data": {
      "text/html": [
       "Run data is saved locally in <code>/workspace/ScalableSAECircuits/wandb/run-20241228_004627-0119y5tq</code>"
      ],
      "text/plain": [
       "<IPython.core.display.HTML object>"
      ]
     },
     "metadata": {},
     "output_type": "display_data"
    },
    {
     "data": {
      "text/html": [
       "Syncing run <strong><a href='https://wandb.ai/llm-research-activated/sae%20circuits/runs/0119y5tq' target=\"_blank\">happy-shadow-190</a></strong> to <a href='https://wandb.ai/llm-research-activated/sae%20circuits' target=\"_blank\">Weights & Biases</a> (<a href='https://wandb.me/developer-guide' target=\"_blank\">docs</a>)<br>"
      ],
      "text/plain": [
       "<IPython.core.display.HTML object>"
      ]
     },
     "metadata": {},
     "output_type": "display_data"
    },
    {
     "data": {
      "text/html": [
       " View project at <a href='https://wandb.ai/llm-research-activated/sae%20circuits' target=\"_blank\">https://wandb.ai/llm-research-activated/sae%20circuits</a>"
      ],
      "text/plain": [
       "<IPython.core.display.HTML object>"
      ]
     },
     "metadata": {},
     "output_type": "display_data"
    },
    {
     "data": {
      "text/html": [
       " View run at <a href='https://wandb.ai/llm-research-activated/sae%20circuits/runs/0119y5tq' target=\"_blank\">https://wandb.ai/llm-research-activated/sae%20circuits/runs/0119y5tq</a>"
      ],
      "text/plain": [
       "<IPython.core.display.HTML object>"
      ]
     },
     "metadata": {},
     "output_type": "display_data"
    },
    {
     "name": "stderr",
     "output_type": "stream",
     "text": [
      "Training Progress: 164it [03:52,  1.42s/it, Step=163, Progress=1.3, Avg Nonzero Elements=0.242, avg distinct lat/sae=15, Task Loss=-2.97, Sparsity Loss=2.23, temperature=tensor(1001.2515, device='cuda:0')]\n"
     ]
    },
    {
     "data": {
      "text/html": [],
      "text/plain": [
       "<IPython.core.display.HTML object>"
      ]
     },
     "metadata": {},
     "output_type": "display_data"
    },
    {
     "data": {
      "text/html": [
       "<br>    <style><br>        .wandb-row {<br>            display: flex;<br>            flex-direction: row;<br>            flex-wrap: wrap;<br>            justify-content: flex-start;<br>            width: 100%;<br>        }<br>        .wandb-col {<br>            display: flex;<br>            flex-direction: column;<br>            flex-basis: 100%;<br>            flex: 1;<br>            padding: 10px;<br>        }<br>    </style><br><div class=\"wandb-row\"><div class=\"wandb-col\"><h3>Run history:</h3><br/><table class=\"wandb\"><tr><td>Avg Nonzero Elements</td><td>███▆▆▅▄▁▁▁▁▁▁▁▁▁▁▁▁▁▁▁▁▁▁▁▁▁▁▁▁▁▁▁▁▁▁▁▁▁</td></tr><tr><td>Progress</td><td>▁▁▁▁▁▂▂▂▂▂▂▃▃▃▃▃▄▄▄▄▄▄▅▅▅▆▆▆▆▆▇▇▇▇▇▇▇▇██</td></tr><tr><td>Sparsity Loss</td><td>█████▇▇▆▃▁▁▁▁▁▁▁▁▁▁▁▁▁▁▁▁▁▁▁▁▁▁▁▁▁▁▁▁▁▁▁</td></tr><tr><td>Step</td><td>▁▁▁▁▁▂▂▂▂▂▃▃▃▃▃▃▃▄▄▄▄▄▅▅▅▅▅▅▅▆▆▆▆▆▆▇▇▇▇█</td></tr><tr><td>Task Loss</td><td>▇█▅▁▅▆▆▇▆▆▇▄▄▂▃▄▄▂▄▆▄▅▄▆▄▄▃▄▃▄▄▃▃▄▄▅▅▄▆▆</td></tr><tr><td>avg distinct lat/sae</td><td>███▆▄▂▁▁▁▁▁▁▁▁▁▁▁▁▁▁▁▁▁▁▁▁▁▁▁▁▁▁▁▁▁▁▁▁▁▁</td></tr><tr><td>temperature</td><td>▁▁▁▁▁▁▁▁▁▁▁▁▁▁▁▁▁▁▁▁▁▁▂▂▂▂▂▂▂▃▃▃▄▅▅▆▆▇▇█</td></tr></table><br/></div><div class=\"wandb-col\"><h3>Run summary:</h3><br/><table class=\"wandb\"><tr><td>Avg Nonzero Elements</td><td>0.24231</td></tr><tr><td>Progress</td><td>1.304</td></tr><tr><td>Sparsity Loss</td><td>2.22622</td></tr><tr><td>Step</td><td>163</td></tr><tr><td>Task Loss</td><td>-2.9734</td></tr><tr><td>avg distinct lat/sae</td><td>15</td></tr><tr><td>temperature</td><td>1001.25146</td></tr></table><br/></div></div>"
      ],
      "text/plain": [
       "<IPython.core.display.HTML object>"
      ]
     },
     "metadata": {},
     "output_type": "display_data"
    },
    {
     "data": {
      "text/html": [
       " View run <strong style=\"color:#cdcd00\">happy-shadow-190</strong> at: <a href='https://wandb.ai/llm-research-activated/sae%20circuits/runs/0119y5tq' target=\"_blank\">https://wandb.ai/llm-research-activated/sae%20circuits/runs/0119y5tq</a><br> View project at: <a href='https://wandb.ai/llm-research-activated/sae%20circuits' target=\"_blank\">https://wandb.ai/llm-research-activated/sae%20circuits</a><br>Synced 5 W&B file(s), 0 media file(s), 0 artifact file(s) and 0 other file(s)"
      ],
      "text/plain": [
       "<IPython.core.display.HTML object>"
      ]
     },
     "metadata": {},
     "output_type": "display_data"
    },
    {
     "data": {
      "text/html": [
       "Find logs at: <code>./wandb/run-20241228_004627-0119y5tq/logs</code>"
      ],
      "text/plain": [
       "<IPython.core.display.HTML object>"
      ]
     },
     "metadata": {},
     "output_type": "display_data"
    },
    {
     "name": "stdout",
     "output_type": "stream",
     "text": [
      "total # latents in circuit:  63.0\n",
      "avg density 15.75\n",
      "CE loss: tensor(0.8818, device='cuda:0')\n"
     ]
    },
    {
     "name": "stderr",
     "output_type": "stream",
     "text": [
      " 60%|██████    | 6/10 [23:44<15:50, 237.60s/it]"
     ]
    },
    {
     "name": "stdout",
     "output_type": "stream",
     "text": [
      "doing a run with sparsity multiplier 12.308076433121023\n"
     ]
    },
    {
     "data": {
      "text/html": [
       "Tracking run with wandb version 0.19.1"
      ],
      "text/plain": [
       "<IPython.core.display.HTML object>"
      ]
     },
     "metadata": {},
     "output_type": "display_data"
    },
    {
     "data": {
      "text/html": [
       "Run data is saved locally in <code>/workspace/ScalableSAECircuits/wandb/run-20241228_005025-icj0r4z8</code>"
      ],
      "text/plain": [
       "<IPython.core.display.HTML object>"
      ]
     },
     "metadata": {},
     "output_type": "display_data"
    },
    {
     "data": {
      "text/html": [
       "Syncing run <strong><a href='https://wandb.ai/llm-research-activated/sae%20circuits/runs/icj0r4z8' target=\"_blank\">rosy-field-191</a></strong> to <a href='https://wandb.ai/llm-research-activated/sae%20circuits' target=\"_blank\">Weights & Biases</a> (<a href='https://wandb.me/developer-guide' target=\"_blank\">docs</a>)<br>"
      ],
      "text/plain": [
       "<IPython.core.display.HTML object>"
      ]
     },
     "metadata": {},
     "output_type": "display_data"
    },
    {
     "data": {
      "text/html": [
       " View project at <a href='https://wandb.ai/llm-research-activated/sae%20circuits' target=\"_blank\">https://wandb.ai/llm-research-activated/sae%20circuits</a>"
      ],
      "text/plain": [
       "<IPython.core.display.HTML object>"
      ]
     },
     "metadata": {},
     "output_type": "display_data"
    },
    {
     "data": {
      "text/html": [
       " View run at <a href='https://wandb.ai/llm-research-activated/sae%20circuits/runs/icj0r4z8' target=\"_blank\">https://wandb.ai/llm-research-activated/sae%20circuits/runs/icj0r4z8</a>"
      ],
      "text/plain": [
       "<IPython.core.display.HTML object>"
      ]
     },
     "metadata": {},
     "output_type": "display_data"
    },
    {
     "name": "stderr",
     "output_type": "stream",
     "text": [
      "Training Progress: 164it [03:52,  1.42s/it, Step=163, Progress=1.3, Avg Nonzero Elements=0.177, avg distinct lat/sae=11, Task Loss=-2.02, Sparsity Loss=2.18, temperature=tensor(1001.2515, device='cuda:0')]\n"
     ]
    },
    {
     "data": {
      "text/html": [],
      "text/plain": [
       "<IPython.core.display.HTML object>"
      ]
     },
     "metadata": {},
     "output_type": "display_data"
    },
    {
     "data": {
      "text/html": [
       "<br>    <style><br>        .wandb-row {<br>            display: flex;<br>            flex-direction: row;<br>            flex-wrap: wrap;<br>            justify-content: flex-start;<br>            width: 100%;<br>        }<br>        .wandb-col {<br>            display: flex;<br>            flex-direction: column;<br>            flex-basis: 100%;<br>            flex: 1;<br>            padding: 10px;<br>        }<br>    </style><br><div class=\"wandb-row\"><div class=\"wandb-col\"><h3>Run history:</h3><br/><table class=\"wandb\"><tr><td>Avg Nonzero Elements</td><td>██▇▆▆▃▂▂▁▁▁▁▁▁▁▁▁▁▁▁▁▁▁▁▁▁▁▁▁▁▁▁▁▁▁▁▁▁▁▁</td></tr><tr><td>Progress</td><td>▁▁▁▁▂▂▂▂▂▂▃▃▃▃▃▄▄▄▄▄▅▅▅▅▆▆▆▆▆▆▇▇▇▇▇█████</td></tr><tr><td>Sparsity Loss</td><td>███▇▇▅▄▄▃▂▁▁▁▁▁▁▁▁▁▁▁▁▁▁▁▁▁▁▁▁▁▁▁▁▁▁▁▁▁▁</td></tr><tr><td>Step</td><td>▁▁▁▁▁▂▂▂▂▃▃▃▃▃▃▄▄▄▄▄▄▅▅▅▆▆▆▆▆▆▆▇▇▇▇▇▇███</td></tr><tr><td>Task Loss</td><td>▁▅▂▆▁▄▃▃▁▆▇▇▃▆▅▅▇▇█▂▆▅▂▅▆▄▆▆▄▄▆▄▆▁▅▅▁▆▅▆</td></tr><tr><td>avg distinct lat/sae</td><td>████▇▆▅▄▃▁▁▁▁▁▁▁▁▁▁▁▁▁▁▁▁▁▁▁▁▁▁▁▁▁▁▁▁▁▁▁</td></tr><tr><td>temperature</td><td>▁▁▁▁▁▁▁▁▁▁▁▁▁▁▁▁▁▁▁▁▁▁▁▁▁▁▁▁▂▂▂▂▂▂▃▄▄▅▆█</td></tr></table><br/></div><div class=\"wandb-col\"><h3>Run summary:</h3><br/><table class=\"wandb\"><tr><td>Avg Nonzero Elements</td><td>0.17692</td></tr><tr><td>Progress</td><td>1.304</td></tr><tr><td>Sparsity Loss</td><td>2.17758</td></tr><tr><td>Step</td><td>163</td></tr><tr><td>Task Loss</td><td>-2.0207</td></tr><tr><td>avg distinct lat/sae</td><td>11</td></tr><tr><td>temperature</td><td>1001.25146</td></tr></table><br/></div></div>"
      ],
      "text/plain": [
       "<IPython.core.display.HTML object>"
      ]
     },
     "metadata": {},
     "output_type": "display_data"
    },
    {
     "data": {
      "text/html": [
       " View run <strong style=\"color:#cdcd00\">rosy-field-191</strong> at: <a href='https://wandb.ai/llm-research-activated/sae%20circuits/runs/icj0r4z8' target=\"_blank\">https://wandb.ai/llm-research-activated/sae%20circuits/runs/icj0r4z8</a><br> View project at: <a href='https://wandb.ai/llm-research-activated/sae%20circuits' target=\"_blank\">https://wandb.ai/llm-research-activated/sae%20circuits</a><br>Synced 5 W&B file(s), 0 media file(s), 0 artifact file(s) and 0 other file(s)"
      ],
      "text/plain": [
       "<IPython.core.display.HTML object>"
      ]
     },
     "metadata": {},
     "output_type": "display_data"
    },
    {
     "data": {
      "text/html": [
       "Find logs at: <code>./wandb/run-20241228_005025-icj0r4z8/logs</code>"
      ],
      "text/plain": [
       "<IPython.core.display.HTML object>"
      ]
     },
     "metadata": {},
     "output_type": "display_data"
    },
    {
     "name": "stdout",
     "output_type": "stream",
     "text": [
      "total # latents in circuit:  46.0\n",
      "avg density 11.5\n",
      "CE loss: tensor(1.0234, device='cuda:0')\n"
     ]
    },
    {
     "name": "stderr",
     "output_type": "stream",
     "text": [
      " 70%|███████   | 7/10 [27:42<11:52, 237.66s/it]"
     ]
    },
    {
     "name": "stdout",
     "output_type": "stream",
     "text": [
      "doing a run with sparsity multiplier 15.949566878980896\n"
     ]
    },
    {
     "data": {
      "text/html": [
       "Tracking run with wandb version 0.19.1"
      ],
      "text/plain": [
       "<IPython.core.display.HTML object>"
      ]
     },
     "metadata": {},
     "output_type": "display_data"
    },
    {
     "data": {
      "text/html": [
       "Run data is saved locally in <code>/workspace/ScalableSAECircuits/wandb/run-20241228_005422-1mh4xypp</code>"
      ],
      "text/plain": [
       "<IPython.core.display.HTML object>"
      ]
     },
     "metadata": {},
     "output_type": "display_data"
    },
    {
     "data": {
      "text/html": [
       "Syncing run <strong><a href='https://wandb.ai/llm-research-activated/sae%20circuits/runs/1mh4xypp' target=\"_blank\">mild-haze-192</a></strong> to <a href='https://wandb.ai/llm-research-activated/sae%20circuits' target=\"_blank\">Weights & Biases</a> (<a href='https://wandb.me/developer-guide' target=\"_blank\">docs</a>)<br>"
      ],
      "text/plain": [
       "<IPython.core.display.HTML object>"
      ]
     },
     "metadata": {},
     "output_type": "display_data"
    },
    {
     "data": {
      "text/html": [
       " View project at <a href='https://wandb.ai/llm-research-activated/sae%20circuits' target=\"_blank\">https://wandb.ai/llm-research-activated/sae%20circuits</a>"
      ],
      "text/plain": [
       "<IPython.core.display.HTML object>"
      ]
     },
     "metadata": {},
     "output_type": "display_data"
    },
    {
     "data": {
      "text/html": [
       " View run at <a href='https://wandb.ai/llm-research-activated/sae%20circuits/runs/1mh4xypp' target=\"_blank\">https://wandb.ai/llm-research-activated/sae%20circuits/runs/1mh4xypp</a>"
      ],
      "text/plain": [
       "<IPython.core.display.HTML object>"
      ]
     },
     "metadata": {},
     "output_type": "display_data"
    },
    {
     "name": "stderr",
     "output_type": "stream",
     "text": [
      "Training Progress: 164it [03:52,  1.42s/it, Step=163, Progress=1.3, Avg Nonzero Elements=0.138, avg distinct lat/sae=8.5, Task Loss=-1.57, Sparsity Loss=2.21, temperature=tensor(1001.2515, device='cuda:0')]\n"
     ]
    },
    {
     "data": {
      "text/html": [],
      "text/plain": [
       "<IPython.core.display.HTML object>"
      ]
     },
     "metadata": {},
     "output_type": "display_data"
    },
    {
     "data": {
      "text/html": [
       "<br>    <style><br>        .wandb-row {<br>            display: flex;<br>            flex-direction: row;<br>            flex-wrap: wrap;<br>            justify-content: flex-start;<br>            width: 100%;<br>        }<br>        .wandb-col {<br>            display: flex;<br>            flex-direction: column;<br>            flex-basis: 100%;<br>            flex: 1;<br>            padding: 10px;<br>        }<br>    </style><br><div class=\"wandb-row\"><div class=\"wandb-col\"><h3>Run history:</h3><br/><table class=\"wandb\"><tr><td>Avg Nonzero Elements</td><td>█████▇▅▄▄▃▁▁▁▁▁▁▁▁▁▁▁▁▁▁▁▁▁▁▁▁▁▁▁▁▁▁▁▁▁▁</td></tr><tr><td>Progress</td><td>▁▁▁▁▁▁▂▂▂▂▂▂▃▃▃▃▃▃▃▃▄▄▄▄▅▅▅▅▅▆▆▆▆▇▇▇▇███</td></tr><tr><td>Sparsity Loss</td><td>██▇▇▃▂▁▁▁▁▁▁▁▁▁▁▁▁▁▁▁▁▁▁▁▁▁▁▁▁▁▁▁▁▁▁▁▁▁▁</td></tr><tr><td>Step</td><td>▁▁▁▂▂▂▂▂▃▃▃▄▄▄▄▄▄▄▅▅▆▆▆▆▆▆▆▇▇▇▇▇▇▇▇█████</td></tr><tr><td>Task Loss</td><td>▃▅▁▁▂▆▇▆▇██▇█▇▇█▄▅▄▆▇▃▅▃▅▄▆▄▇▅▆▅▄▄▆▁▅▅▆▅</td></tr><tr><td>avg distinct lat/sae</td><td>█▇▆▆▅▂▂▁▁▁▁▁▁▁▁▁▁▁▁▁▁▁▁▁▁▁▁▁▁▁▁▁▁▁▁▁▁▁▁▁</td></tr><tr><td>temperature</td><td>▁▁▁▁▁▁▁▁▁▁▁▁▁▁▁▁▁▁▁▁▁▁▁▁▂▂▂▂▂▂▃▃▃▄▄▅▅▆▆█</td></tr></table><br/></div><div class=\"wandb-col\"><h3>Run summary:</h3><br/><table class=\"wandb\"><tr><td>Avg Nonzero Elements</td><td>0.13846</td></tr><tr><td>Progress</td><td>1.304</td></tr><tr><td>Sparsity Loss</td><td>2.2084</td></tr><tr><td>Step</td><td>163</td></tr><tr><td>Task Loss</td><td>-1.56588</td></tr><tr><td>avg distinct lat/sae</td><td>8.5</td></tr><tr><td>temperature</td><td>1001.25146</td></tr></table><br/></div></div>"
      ],
      "text/plain": [
       "<IPython.core.display.HTML object>"
      ]
     },
     "metadata": {},
     "output_type": "display_data"
    },
    {
     "data": {
      "text/html": [
       " View run <strong style=\"color:#cdcd00\">mild-haze-192</strong> at: <a href='https://wandb.ai/llm-research-activated/sae%20circuits/runs/1mh4xypp' target=\"_blank\">https://wandb.ai/llm-research-activated/sae%20circuits/runs/1mh4xypp</a><br> View project at: <a href='https://wandb.ai/llm-research-activated/sae%20circuits' target=\"_blank\">https://wandb.ai/llm-research-activated/sae%20circuits</a><br>Synced 5 W&B file(s), 0 media file(s), 0 artifact file(s) and 0 other file(s)"
      ],
      "text/plain": [
       "<IPython.core.display.HTML object>"
      ]
     },
     "metadata": {},
     "output_type": "display_data"
    },
    {
     "data": {
      "text/html": [
       "Find logs at: <code>./wandb/run-20241228_005422-1mh4xypp/logs</code>"
      ],
      "text/plain": [
       "<IPython.core.display.HTML object>"
      ]
     },
     "metadata": {},
     "output_type": "display_data"
    },
    {
     "name": "stdout",
     "output_type": "stream",
     "text": [
      "total # latents in circuit:  36.0\n",
      "avg density 9.0\n",
      "CE loss: tensor(1.1810, device='cuda:0')\n"
     ]
    },
    {
     "name": "stderr",
     "output_type": "stream",
     "text": [
      " 80%|████████  | 8/10 [31:39<07:55, 237.59s/it]"
     ]
    },
    {
     "name": "stdout",
     "output_type": "stream",
     "text": [
      "doing a run with sparsity multiplier 20.112050955414013\n"
     ]
    },
    {
     "data": {
      "text/html": [
       "Tracking run with wandb version 0.19.1"
      ],
      "text/plain": [
       "<IPython.core.display.HTML object>"
      ]
     },
     "metadata": {},
     "output_type": "display_data"
    },
    {
     "data": {
      "text/html": [
       "Run data is saved locally in <code>/workspace/ScalableSAECircuits/wandb/run-20241228_005820-oxeh6ezx</code>"
      ],
      "text/plain": [
       "<IPython.core.display.HTML object>"
      ]
     },
     "metadata": {},
     "output_type": "display_data"
    },
    {
     "data": {
      "text/html": [
       "Syncing run <strong><a href='https://wandb.ai/llm-research-activated/sae%20circuits/runs/oxeh6ezx' target=\"_blank\">driven-river-193</a></strong> to <a href='https://wandb.ai/llm-research-activated/sae%20circuits' target=\"_blank\">Weights & Biases</a> (<a href='https://wandb.me/developer-guide' target=\"_blank\">docs</a>)<br>"
      ],
      "text/plain": [
       "<IPython.core.display.HTML object>"
      ]
     },
     "metadata": {},
     "output_type": "display_data"
    },
    {
     "data": {
      "text/html": [
       " View project at <a href='https://wandb.ai/llm-research-activated/sae%20circuits' target=\"_blank\">https://wandb.ai/llm-research-activated/sae%20circuits</a>"
      ],
      "text/plain": [
       "<IPython.core.display.HTML object>"
      ]
     },
     "metadata": {},
     "output_type": "display_data"
    },
    {
     "data": {
      "text/html": [
       " View run at <a href='https://wandb.ai/llm-research-activated/sae%20circuits/runs/oxeh6ezx' target=\"_blank\">https://wandb.ai/llm-research-activated/sae%20circuits/runs/oxeh6ezx</a>"
      ],
      "text/plain": [
       "<IPython.core.display.HTML object>"
      ]
     },
     "metadata": {},
     "output_type": "display_data"
    },
    {
     "name": "stderr",
     "output_type": "stream",
     "text": [
      "Training Progress: 164it [03:52,  1.42s/it, Step=163, Progress=1.3, Avg Nonzero Elements=0.0923, avg distinct lat/sae=5.75, Task Loss=-0.398, Sparsity Loss=1.86, temperature=tensor(1001.2515, device='cuda:0')]\n"
     ]
    },
    {
     "data": {
      "text/html": [],
      "text/plain": [
       "<IPython.core.display.HTML object>"
      ]
     },
     "metadata": {},
     "output_type": "display_data"
    },
    {
     "data": {
      "text/html": [
       "<br>    <style><br>        .wandb-row {<br>            display: flex;<br>            flex-direction: row;<br>            flex-wrap: wrap;<br>            justify-content: flex-start;<br>            width: 100%;<br>        }<br>        .wandb-col {<br>            display: flex;<br>            flex-direction: column;<br>            flex-basis: 100%;<br>            flex: 1;<br>            padding: 10px;<br>        }<br>    </style><br><div class=\"wandb-row\"><div class=\"wandb-col\"><h3>Run history:</h3><br/><table class=\"wandb\"><tr><td>Avg Nonzero Elements</td><td>█████▇▆▆▆▅▄▂▁▁▁▁▁▁▁▁▁▁▁▁▁▁▁▁▁▁▁▁▁▁▁▁▁▁▁▁</td></tr><tr><td>Progress</td><td>▁▁▁▁▁▂▂▂▂▂▃▃▃▃▃▄▄▄▄▅▅▅▅▅▅▆▆▆▆▆▇▇▇▇▇▇▇▇▇█</td></tr><tr><td>Sparsity Loss</td><td>████▇▆▂▁▁▁▁▁▁▁▁▁▁▁▁▁▁▁▁▁▁▁▁▁▁▁▁▁▁▁▁▁▁▁▁▁</td></tr><tr><td>Step</td><td>▁▁▁▁▂▂▂▂▂▂▃▃▃▃▃▃▃▄▄▄▄▄▄▅▅▅▅▅▆▆▆▆▆▆▆▇▇▇▇█</td></tr><tr><td>Task Loss</td><td>▁▂▃▄▂▂▃▆▆▅▇▇▆▇▆▇▅▆▆▆▇▆▇▇█▇▆▆▇▆▆▅▆▆█▇▇▆▅▇</td></tr><tr><td>avg distinct lat/sae</td><td>████▇▆▆▆▃▂▁▁▁▁▁▁▁▁▁▁▁▁▁▁▁▁▁▁▁▁▁▁▁▁▁▁▁▁▁▁</td></tr><tr><td>temperature</td><td>▁▁▁▁▁▁▁▁▁▁▁▁▁▁▁▁▁▁▁▁▁▁▁▁▁▂▂▂▂▂▃▃▃▃▄▄▅▅▅█</td></tr></table><br/></div><div class=\"wandb-col\"><h3>Run summary:</h3><br/><table class=\"wandb\"><tr><td>Avg Nonzero Elements</td><td>0.09231</td></tr><tr><td>Progress</td><td>1.304</td></tr><tr><td>Sparsity Loss</td><td>1.8565</td></tr><tr><td>Step</td><td>163</td></tr><tr><td>Task Loss</td><td>-0.39783</td></tr><tr><td>avg distinct lat/sae</td><td>5.75</td></tr><tr><td>temperature</td><td>1001.25146</td></tr></table><br/></div></div>"
      ],
      "text/plain": [
       "<IPython.core.display.HTML object>"
      ]
     },
     "metadata": {},
     "output_type": "display_data"
    },
    {
     "data": {
      "text/html": [
       " View run <strong style=\"color:#cdcd00\">driven-river-193</strong> at: <a href='https://wandb.ai/llm-research-activated/sae%20circuits/runs/oxeh6ezx' target=\"_blank\">https://wandb.ai/llm-research-activated/sae%20circuits/runs/oxeh6ezx</a><br> View project at: <a href='https://wandb.ai/llm-research-activated/sae%20circuits' target=\"_blank\">https://wandb.ai/llm-research-activated/sae%20circuits</a><br>Synced 5 W&B file(s), 0 media file(s), 0 artifact file(s) and 0 other file(s)"
      ],
      "text/plain": [
       "<IPython.core.display.HTML object>"
      ]
     },
     "metadata": {},
     "output_type": "display_data"
    },
    {
     "data": {
      "text/html": [
       "Find logs at: <code>./wandb/run-20241228_005820-oxeh6ezx/logs</code>"
      ],
      "text/plain": [
       "<IPython.core.display.HTML object>"
      ]
     },
     "metadata": {},
     "output_type": "display_data"
    },
    {
     "name": "stdout",
     "output_type": "stream",
     "text": [
      "total # latents in circuit:  24.0\n",
      "avg density 6.0\n",
      "CE loss: tensor(1.5766, device='cuda:0')\n"
     ]
    },
    {
     "name": "stderr",
     "output_type": "stream",
     "text": [
      " 90%|█████████ | 9/10 [35:36<03:57, 237.55s/it]"
     ]
    },
    {
     "name": "stdout",
     "output_type": "stream",
     "text": [
      "doing a run with sparsity multiplier 24.795528662420384\n"
     ]
    },
    {
     "data": {
      "text/html": [
       "Tracking run with wandb version 0.19.1"
      ],
      "text/plain": [
       "<IPython.core.display.HTML object>"
      ]
     },
     "metadata": {},
     "output_type": "display_data"
    },
    {
     "data": {
      "text/html": [
       "Run data is saved locally in <code>/workspace/ScalableSAECircuits/wandb/run-20241228_010217-mkueq07m</code>"
      ],
      "text/plain": [
       "<IPython.core.display.HTML object>"
      ]
     },
     "metadata": {},
     "output_type": "display_data"
    },
    {
     "data": {
      "text/html": [
       "Syncing run <strong><a href='https://wandb.ai/llm-research-activated/sae%20circuits/runs/mkueq07m' target=\"_blank\">copper-violet-194</a></strong> to <a href='https://wandb.ai/llm-research-activated/sae%20circuits' target=\"_blank\">Weights & Biases</a> (<a href='https://wandb.me/developer-guide' target=\"_blank\">docs</a>)<br>"
      ],
      "text/plain": [
       "<IPython.core.display.HTML object>"
      ]
     },
     "metadata": {},
     "output_type": "display_data"
    },
    {
     "data": {
      "text/html": [
       " View project at <a href='https://wandb.ai/llm-research-activated/sae%20circuits' target=\"_blank\">https://wandb.ai/llm-research-activated/sae%20circuits</a>"
      ],
      "text/plain": [
       "<IPython.core.display.HTML object>"
      ]
     },
     "metadata": {},
     "output_type": "display_data"
    },
    {
     "data": {
      "text/html": [
       " View run at <a href='https://wandb.ai/llm-research-activated/sae%20circuits/runs/mkueq07m' target=\"_blank\">https://wandb.ai/llm-research-activated/sae%20circuits/runs/mkueq07m</a>"
      ],
      "text/plain": [
       "<IPython.core.display.HTML object>"
      ]
     },
     "metadata": {},
     "output_type": "display_data"
    },
    {
     "name": "stderr",
     "output_type": "stream",
     "text": [
      "Training Progress: 164it [03:50,  1.41s/it, Step=163, Progress=1.3, Avg Nonzero Elements=0.0269, avg distinct lat/sae=1.75, Task Loss=0.288, Sparsity Loss=0.668, temperature=tensor(1001.2515, device='cuda:0')]\n"
     ]
    },
    {
     "data": {
      "text/html": [],
      "text/plain": [
       "<IPython.core.display.HTML object>"
      ]
     },
     "metadata": {},
     "output_type": "display_data"
    },
    {
     "data": {
      "text/html": [
       "<br>    <style><br>        .wandb-row {<br>            display: flex;<br>            flex-direction: row;<br>            flex-wrap: wrap;<br>            justify-content: flex-start;<br>            width: 100%;<br>        }<br>        .wandb-col {<br>            display: flex;<br>            flex-direction: column;<br>            flex-basis: 100%;<br>            flex: 1;<br>            padding: 10px;<br>        }<br>    </style><br><div class=\"wandb-row\"><div class=\"wandb-col\"><h3>Run history:</h3><br/><table class=\"wandb\"><tr><td>Avg Nonzero Elements</td><td>██▅▄▄▂▂▁▁▁▁▁▁▁▁▁▁▁▁▁▁▁▁▁▁▁▁▁▁▁▁▁▁▁▁▁▁▁▁▁</td></tr><tr><td>Progress</td><td>▁▁▁▁▁▂▂▂▂▂▂▂▂▃▃▃▄▄▄▄▄▄▅▅▅▅▆▆▆▆▇▇▇▇▇▇▇███</td></tr><tr><td>Sparsity Loss</td><td>████▇▇▆▄▃▂▁▁▁▁▁▁▁▁▁▁▁▁▁▁▁▁▁▁▁▁▁▁▁▁▁▁▁▁▁▁</td></tr><tr><td>Step</td><td>▁▁▁▂▂▂▂▂▂▂▂▃▃▃▃▃▃▃▄▄▄▄▄▅▅▅▅▅▅▅▆▆▆▆▇▇▇███</td></tr><tr><td>Task Loss</td><td>▁▁▄▂▂▃▃▅▆▆▆▆▇▇▆▆██▅▇▇▆▆▇▆▇█▅▆▇▆▅▇▆█▇▇▇▇█</td></tr><tr><td>avg distinct lat/sae</td><td>██▇▇▇▆▃▂▂▁▁▁▁▁▁▁▁▁▁▁▁▁▁▁▁▁▁▁▁▁▁▁▁▁▁▁▁▁▁▁</td></tr><tr><td>temperature</td><td>▁▁▁▁▁▁▁▁▁▁▁▁▁▁▁▁▁▁▁▁▁▁▂▂▂▂▂▂▃▃▄▄▄▅▅▅▆▆▇█</td></tr></table><br/></div><div class=\"wandb-col\"><h3>Run summary:</h3><br/><table class=\"wandb\"><tr><td>Avg Nonzero Elements</td><td>0.02692</td></tr><tr><td>Progress</td><td>1.304</td></tr><tr><td>Sparsity Loss</td><td>0.66757</td></tr><tr><td>Step</td><td>163</td></tr><tr><td>Task Loss</td><td>0.28783</td></tr><tr><td>avg distinct lat/sae</td><td>1.75</td></tr><tr><td>temperature</td><td>1001.25146</td></tr></table><br/></div></div>"
      ],
      "text/plain": [
       "<IPython.core.display.HTML object>"
      ]
     },
     "metadata": {},
     "output_type": "display_data"
    },
    {
     "data": {
      "text/html": [
       " View run <strong style=\"color:#cdcd00\">copper-violet-194</strong> at: <a href='https://wandb.ai/llm-research-activated/sae%20circuits/runs/mkueq07m' target=\"_blank\">https://wandb.ai/llm-research-activated/sae%20circuits/runs/mkueq07m</a><br> View project at: <a href='https://wandb.ai/llm-research-activated/sae%20circuits' target=\"_blank\">https://wandb.ai/llm-research-activated/sae%20circuits</a><br>Synced 5 W&B file(s), 0 media file(s), 0 artifact file(s) and 0 other file(s)"
      ],
      "text/plain": [
       "<IPython.core.display.HTML object>"
      ]
     },
     "metadata": {},
     "output_type": "display_data"
    },
    {
     "data": {
      "text/html": [
       "Find logs at: <code>./wandb/run-20241228_010217-mkueq07m/logs</code>"
      ],
      "text/plain": [
       "<IPython.core.display.HTML object>"
      ]
     },
     "metadata": {},
     "output_type": "display_data"
    },
    {
     "name": "stdout",
     "output_type": "stream",
     "text": [
      "total # latents in circuit:  7.0\n",
      "avg density 1.75\n",
      "CE loss: tensor(2.1259, device='cuda:0')\n"
     ]
    },
    {
     "name": "stderr",
     "output_type": "stream",
     "text": [
      "100%|██████████| 10/10 [39:32<00:00, 237.24s/it]\n"
     ]
    }
   ],
   "source": [
    "learned_faithfulness_frontier = get_faithfulness_frontier(produce_learned_binary_mask, 1.4, 30, steps=10, modify_fn=lambda x: x**2)"
   ]
  },
  {
   "cell_type": "code",
   "execution_count": 84,
   "metadata": {},
   "outputs": [
    {
     "data": {
      "image/png": "[encoded data removed]",
      "text/plain": [
       "<Figure size 1000x600 with 1 Axes>"
      ]
     },
     "metadata": {},
     "output_type": "display_data"
    }
   ],
   "source": [
    "plot_faithfulness_frontier(learned_faithfulness_frontier)"
   ]
  },
  {
   "cell_type": "code",
   "execution_count": 103,
   "metadata": {},
   "outputs": [],
   "source": [
    "# save faithfulness frontier to disk\n",
    "import json\n",
    "json.dump(faithfulness_frontier, open(\"learned_faithfulness_frontier.json\", \"w\"))"
   ]
  },
  {
   "cell_type": "code",
   "execution_count": 63,
   "metadata": {},
   "outputs": [],
   "source": []
  },
  {
   "cell_type": "markdown",
   "metadata": {},
   "source": [
    "## Eval"
   ]
  },
  {
   "cell_type": "code",
   "execution_count": null,
   "metadata": {},
   "outputs": [],
   "source": [
    "def masked_logit_fn(tokens):\n",
    "    return model.run_with_hooks(\n",
    "        tokens, \n",
    "        return_type=\"logits\", \n",
    "        fwd_hooks=build_hooks_list(tokens, use_mask=True, binarize_mask=True, mean_mask=True)\n",
    "        )"
   ]
  },
  {
   "cell_type": "code",
   "execution_count": null,
   "metadata": {},
   "outputs": [],
   "source": [
    "def baseline_logit_fn(tokens):\n",
    "    return model.run_with_hooks(\n",
    "        tokens, \n",
    "        return_type=\"logits\", \n",
    "        fwd_hooks=[]\n",
    "        )"
   ]
  },
  {
   "cell_type": "code",
   "execution_count": null,
   "metadata": {},
   "outputs": [],
   "source": [
    "def baseline_sae_logit_fn(tokens):\n",
    "    return model.run_with_hooks(\n",
    "        tokens, \n",
    "        return_type=\"logits\", \n",
    "        fwd_hooks=build_hooks_list(tokens)\n",
    "        )"
   ]
  },
  {
   "cell_type": "code",
   "execution_count": null,
   "metadata": {},
   "outputs": [
    {
     "data": {
      "text/plain": [
       "5"
      ]
     },
     "execution_count": 56,
     "metadata": {},
     "output_type": "execute_result"
    }
   ],
   "source": [
    "# serialize the masks\n",
    "mask_dict = {}\n",
    "for sae in saes:\n",
    "    mask_dict[sae.cfg.hook_name] = torch.where(torch.sigmoid(sae.mask.mask*10000))[0].tolist()\n",
    "\n",
    "json.dump(mask_dict, open(\"mask_dict.json\", \"w\"))\n",
    "len(mask_dict[\"blocks.7.hook_resid_post\"])"
   ]
  },
  {
   "cell_type": "code",
   "execution_count": 94,
   "metadata": {},
   "outputs": [
    {
     "data": {
      "image/png": "[encoded data removed]",
      "text/plain": [
       "<Figure size 1200x700 with 1 Axes>"
      ]
     },
     "execution_count": 94,
     "metadata": {},
     "output_type": "execute_result"
    },
    {
     "data": {
      "image/png": "[encoded data removed]",
      "text/plain": [
       "<Figure size 1200x700 with 1 Axes>"
      ]
     },
     "metadata": {},
     "output_type": "display_data"
    }
   ],
   "source": [
    "plot_multiple_faithfulness_frontiers({\n",
    "    'IG Faithfulness': ig_faithfulness_frontier,\n",
    "    'Learned Mask Faithfulness': learned_faithfulness_frontier\n",
    "}, figsize=(12, 7))"
   ]
  },
  {
   "cell_type": "code",
   "execution_count": null,
   "metadata": {},
   "outputs": [
    {
     "name": "stdout",
     "output_type": "stream",
     "text": [
      "Nonzero elements in mask for blocks.7.hook_resid_post: 5\n",
      "Nonzero elements in mask for blocks.14.hook_resid_post: 13\n",
      "Nonzero elements in mask for blocks.21.hook_resid_post: 20\n",
      "Nonzero elements in mask for blocks.40.hook_resid_post: 45\n"
     ]
    }
   ],
   "source": [
    "for sae in saes:\n",
    "    mask = sae.mask.mask\n",
    "    print(f\"Nonzero elements in mask for {sae.cfg.hook_name}: {torch.count_nonzero(torch.sigmoid(mask*1000))}\")"
   ]
  },
  {
   "cell_type": "code",
   "execution_count": null,
   "metadata": {},
   "outputs": [
    {
     "name": "stdout",
     "output_type": "stream",
     "text": [
      "baseline loss: tensor(0.0276, device='cuda:0')\n",
      "sae loss:  tensor(0.8250, device='cuda:0')\n",
      "ablated loss:  tensor(0.4248, device='cuda:0')\n"
     ]
    }
   ],
   "source": [
    "def eval_ce_loss(batch, labels, logitfn, ratio_trained=10):\n",
    "    for sae in saes:\n",
    "        sae.mask.ratio_trained = ratio_trained\n",
    "    tokens = batch\n",
    "    logits = logitfn(tokens)\n",
    "    last_token_logits = logits[:, -1, :]\n",
    "    loss = F.cross_entropy(last_token_logits, labels)\n",
    "    sparsity_loss = 0\n",
    "    for sae in saes:\n",
    "        sparsity_loss = sparsity_loss + sae.mask.sparsity_loss\n",
    "    \n",
    "    sparsity_loss = sparsity_loss / len(saes)\n",
    "\n",
    "    return loss\n",
    "\n",
    "with torch.no_grad():\n",
    "    loss = eval_ce_loss(simple_dataset[-1], simple_labels[-1], baseline_logit_fn)\n",
    "    print(\"baseline loss:\", loss)\n",
    "\n",
    "with torch.no_grad():\n",
    "    loss = eval_ce_loss(simple_dataset[-1], simple_labels[-1], baseline_sae_logit_fn)\n",
    "    print(\"sae loss: \", loss)\n",
    "\n",
    "with torch.no_grad():\n",
    "    loss = eval_ce_loss(simple_dataset[-1], simple_labels[-1], masked_logit_fn)\n",
    "    print(\"ablated loss: \", loss)"
   ]
  },
  {
   "cell_type": "code",
   "execution_count": null,
   "metadata": {},
   "outputs": [],
   "source": [
    "def eval_ce_loss(batch, labels, logitfn, ratio_trained=10):\n",
    "    # Assuming 'saes' is defined elsewhere in your code\n",
    "    for sae in saes:\n",
    "        sae.mask.ratio_trained = ratio_trained\n",
    "    tokens = batch\n",
    "    logits = logitfn(tokens)\n",
    "    last_token_logits = logits[:, -1, :]\n",
    "    loss = F.cross_entropy(last_token_logits, labels)\n",
    "    sparsity_loss = 0\n",
    "    for sae in saes:\n",
    "        sparsity_loss += sae.mask.sparsity_loss\n",
    "    \n",
    "    sparsity_loss = sparsity_loss / len(saes)\n",
    "    total_loss = loss + sparsity_loss\n",
    "\n",
    "    return loss.item()  # Return the loss as a scalar value\n",
    "\n"
   ]
  },
  {
   "cell_type": "code",
   "execution_count": null,
   "metadata": {},
   "outputs": [
    {
     "data": {
      "text/html": [
       "<div>\n",
       "<style scoped>\n",
       "    .dataframe tbody tr th:only-of-type {\n",
       "        vertical-align: middle;\n",
       "    }\n",
       "\n",
       "    .dataframe tbody tr th {\n",
       "        vertical-align: top;\n",
       "    }\n",
       "\n",
       "    .dataframe thead th {\n",
       "        text-align: right;\n",
       "    }\n",
       "</style>\n",
       "<table border=\"1\" class=\"dataframe\">\n",
       "  <thead>\n",
       "    <tr style=\"text-align: right;\">\n",
       "      <th></th>\n",
       "      <th>P(Age|Correct Ex)</th>\n",
       "      <th>P(Traceback|Correct Ex)</th>\n",
       "      <th>Logit Diff (Correct Ex)</th>\n",
       "      <th>P(Traceback|Error Ex)</th>\n",
       "      <th>P(Age|Error Ex)</th>\n",
       "      <th>Logit Diff (Error Ex)</th>\n",
       "      <th>Cross-Entropy Loss</th>\n",
       "    </tr>\n",
       "    <tr>\n",
       "      <th>method</th>\n",
       "      <th></th>\n",
       "      <th></th>\n",
       "      <th></th>\n",
       "      <th></th>\n",
       "      <th></th>\n",
       "      <th></th>\n",
       "      <th></th>\n",
       "    </tr>\n",
       "  </thead>\n",
       "  <tbody>\n",
       "    <tr>\n",
       "      <th>VANILLA GEMMA 9B</th>\n",
       "      <td>0.979983</td>\n",
       "      <td>0.001325</td>\n",
       "      <td>6.898462</td>\n",
       "      <td>0.959781</td>\n",
       "      <td>0.000997</td>\n",
       "      <td>6.925329</td>\n",
       "      <td>0.027596</td>\n",
       "    </tr>\n",
       "    <tr>\n",
       "      <th>GEMMA 9B WITH SAE (no masks)</th>\n",
       "      <td>0.929262</td>\n",
       "      <td>0.001051</td>\n",
       "      <td>6.914926</td>\n",
       "      <td>0.176590</td>\n",
       "      <td>0.025586</td>\n",
       "      <td>2.025202</td>\n",
       "      <td>0.825018</td>\n",
       "    </tr>\n",
       "    <tr>\n",
       "      <th>GEMMA 9B WITH SAE Masked</th>\n",
       "      <td>0.828356</td>\n",
       "      <td>0.015461</td>\n",
       "      <td>4.076188</td>\n",
       "      <td>0.469673</td>\n",
       "      <td>0.076615</td>\n",
       "      <td>1.813243</td>\n",
       "      <td>0.424774</td>\n",
       "    </tr>\n",
       "  </tbody>\n",
       "</table>\n",
       "</div>"
      ],
      "text/plain": [
       "                              P(Age|Correct Ex)  P(Traceback|Correct Ex)  \\\n",
       "method                                                                     \n",
       "VANILLA GEMMA 9B                       0.979983                 0.001325   \n",
       "GEMMA 9B WITH SAE (no masks)           0.929262                 0.001051   \n",
       "GEMMA 9B WITH SAE Masked               0.828356                 0.015461   \n",
       "\n",
       "                              Logit Diff (Correct Ex)  P(Traceback|Error Ex)  \\\n",
       "method                                                                         \n",
       "VANILLA GEMMA 9B                             6.898462               0.959781   \n",
       "GEMMA 9B WITH SAE (no masks)                 6.914926               0.176590   \n",
       "GEMMA 9B WITH SAE Masked                     4.076188               0.469673   \n",
       "\n",
       "                              P(Age|Error Ex)  Logit Diff (Error Ex)  \\\n",
       "method                                                                 \n",
       "VANILLA GEMMA 9B                     0.000997               6.925329   \n",
       "GEMMA 9B WITH SAE (no masks)         0.025586               2.025202   \n",
       "GEMMA 9B WITH SAE Masked             0.076615               1.813243   \n",
       "\n",
       "                              Cross-Entropy Loss  \n",
       "method                                            \n",
       "VANILLA GEMMA 9B                        0.027596  \n",
       "GEMMA 9B WITH SAE (no masks)            0.825018  \n",
       "GEMMA 9B WITH SAE Masked                0.424774  "
      ]
     },
     "execution_count": 60,
     "metadata": {},
     "output_type": "execute_result"
    }
   ],
   "source": [
    "results_list = []\n",
    "\n",
    "# Method: VANILLA GEMMA 9B\n",
    "method_name = \"VANILLA GEMMA 9B\"\n",
    "with torch.no_grad():\n",
    "    results = sanity_check_model_performance(baseline_logit_fn)\n",
    "    # Compute cross-entropy loss\n",
    "    ce_loss = eval_ce_loss(simple_dataset[-1], simple_labels[-1], baseline_logit_fn)\n",
    "    results['ce_loss'] = ce_loss\n",
    "    results['method'] = method_name\n",
    "    results_list.append(results)\n",
    "\n",
    "# Method: GEMMA 9B WITH SAE (no masks)\n",
    "method_name = \"GEMMA 9B WITH SAE (no masks)\"\n",
    "with torch.no_grad():\n",
    "    results = sanity_check_model_performance(baseline_sae_logit_fn)\n",
    "    # Compute cross-entropy loss\n",
    "    ce_loss = eval_ce_loss(simple_dataset[-1], simple_labels[-1], baseline_sae_logit_fn)\n",
    "    results['ce_loss'] = ce_loss\n",
    "    results['method'] = method_name\n",
    "    results_list.append(results)\n",
    "\n",
    "# Method: GEMMA 9B WITH SAE Masked\n",
    "method_name = \"GEMMA 9B WITH SAE Masked\"\n",
    "with torch.no_grad():\n",
    "    results = sanity_check_model_performance(masked_logit_fn)\n",
    "    # Compute cross-entropy loss\n",
    "    ce_loss = eval_ce_loss(simple_dataset[-1], simple_labels[-1], masked_logit_fn)\n",
    "    results['ce_loss'] = ce_loss\n",
    "    results['method'] = method_name\n",
    "    results_list.append(results)\n",
    "\n",
    "# Create a DataFrame and display it with descriptive column names\n",
    "df = pd.DataFrame(results_list)\n",
    "df = df.set_index('method')  # Set 'method' as the index\n",
    "\n",
    "# Rename columns for better readability\n",
    "df = df.rename(columns={\n",
    "    'prob_correct_in_correct': 'P(Age|Correct Ex)',\n",
    "    'prob_error_in_correct': 'P(Traceback|Correct Ex)',\n",
    "    'logit_diff_correct': 'Logit Diff (Correct Ex)',\n",
    "    'prob_error_in_error': 'P(Traceback|Error Ex)',\n",
    "    'prob_correct_in_error': 'P(Age|Error Ex)',\n",
    "    'logit_diff_error': 'Logit Diff (Error Ex)',\n",
    "    'ce_loss': 'Cross-Entropy Loss'\n",
    "})\n",
    "\n",
    "# Display the DataFrame\n",
    "df\n"
   ]
  }
 ],
 "metadata": {
  "kernelspec": {
   "display_name": "Python 3",
   "language": "python",
   "name": "python3"
  },
  "language_info": {
   "codemirror_mode": {
    "name": "ipython",
    "version": 3
   },
   "file_extension": ".py",
   "mimetype": "text/x-python",
   "name": "python",
   "nbconvert_exporter": "python",
   "pygments_lexer": "ipython3",
   "version": "3.10.12"
  }
 },
 "nbformat": 4,
 "nbformat_minor": 2
}
